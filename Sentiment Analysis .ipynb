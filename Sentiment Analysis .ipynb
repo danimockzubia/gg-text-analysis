{
 "cells": [
  {
   "cell_type": "code",
   "execution_count": null,
   "id": "967b6e68",
   "metadata": {},
   "outputs": [],
   "source": [
    "import pandas as pd\n",
    "import matplotlib.pyplot as plt"
   ]
  },
  {
   "cell_type": "code",
   "execution_count": 1,
   "id": "30e49952",
   "metadata": {},
   "outputs": [],
   "source": [
    "from nltk.tokenize import sent_tokenize, word_tokenize\n",
    "from nltk.corpus import stopwords"
   ]
  },
  {
   "cell_type": "code",
   "execution_count": 4,
   "id": "c76f62a5",
   "metadata": {},
   "outputs": [],
   "source": [
    "from bs4 import BeautifulSoup"
   ]
  },
  {
   "cell_type": "code",
   "execution_count": 3,
   "id": "da58283e",
   "metadata": {},
   "outputs": [],
   "source": [
    "import seaborn as sns\n",
    "import re"
   ]
  },
  {
   "cell_type": "code",
   "execution_count": 5,
   "id": "913d0066",
   "metadata": {},
   "outputs": [],
   "source": [
    "import requests"
   ]
  },
  {
   "cell_type": "code",
   "execution_count": 17,
   "id": "68940240",
   "metadata": {},
   "outputs": [],
   "source": [
    "from nltk.tokenize import sent_tokenize, word_tokenize\n",
    "from nltk.corpus import stopwords"
   ]
  },
  {
   "cell_type": "code",
   "execution_count": 53,
   "id": "d3e04055",
   "metadata": {},
   "outputs": [
    {
     "name": "stdout",
     "output_type": "stream",
     "text": [
      "{'i', 'those', 'nor', 'out', 'very', 'needn', 'yours', 'against', 'down', 'ourselves', 'was', 'didn', 'our', 'into', 'all', 'myself', 'for', 'to', 'in', 'did', 'how', 'have', 'am', 'been', 'before', \"doesn't\", 'themselves', 'can', 'mustn', 'where', 'will', 'd', 'above', 'aren', 'isn', 'haven', 'between', 'we', 'an', 'through', \"it's\", 'yourself', 'him', \"couldn't\", \"needn't\", \"you've\", 'there', \"wasn't\", 'won', 'under', 'are', 'same', 'do', 've', 'y', 'which', \"you'll\", 'll', \"shan't\", 'these', 'from', 'then', 'here', \"isn't\", 'theirs', 'ain', 'further', 'itself', 'about', 'o', 'not', 'ma', 'so', 'its', \"that'll\", 'and', \"should've\", \"you'd\", 'weren', 'me', 'hers', 'such', 'doing', 'after', 'than', 'a', 'over', 'that', 'but', 'it', 'whom', 'this', 'up', 'hadn', 'because', 'is', 'be', 'wasn', 'if', 'himself', 'with', 'what', 'should', 'them', 'yourselves', 'being', 'you', 'wouldn', 'some', 'until', 'by', \"weren't\", 'why', 'does', 'he', 'below', 'off', 'hasn', 'of', \"she's\", \"don't\", 'had', 'no', 'were', 'my', 'they', 'shouldn', \"haven't\", 'or', 'at', 'having', 'once', 'own', 'both', 'your', \"didn't\", 'don', 'has', \"shouldn't\", 'other', \"hadn't\", 'most', 'now', 'couldn', 'their', 'his', 'only', 't', 'again', 'on', \"wouldn't\", 'any', 'doesn', \"won't\", \"aren't\", 'her', 'when', 'the', 'as', 'she', 'more', 'mightn', 'herself', 'few', 'while', \"you're\", \"hasn't\", \"mustn't\", 'each', 'who', 're', 's', 'during', 'ours', \"mightn't\", 'shan', 'too', 'just', 'm'}\n"
     ]
    }
   ],
   "source": [
    "stops = set(stopwords.words('english'))\n",
    "print(stops)"
   ]
  },
  {
   "cell_type": "code",
   "execution_count": 70,
   "id": "85f6e48b",
   "metadata": {},
   "outputs": [],
   "source": [
    "def getWordsFromPage(pageNumber):\n",
    "    url = 'https://www.gilmoregirls.org/eguide/transcripts/episode{pageNumber}.html'\n",
    "    url = url.format(pageNumber=pageNumber)\n",
    "\n",
    "    response = requests.get(url)\n",
    "    soup = BeautifulSoup(response.text, 'html.parser')\n",
    "    data = ''\n",
    "    for data in soup.find_all('body'):\n",
    "        script = data.get_text()    \n",
    "        get_words = word_tokenize(script)\n",
    "        lower_words = [x.lower() for x in get_words]\n",
    "        \n",
    "        new_words = ' '.join(ch for ch in lower_words if ch.isalnum())\n",
    "        \n",
    "        data = new_words\n",
    "        stopwords = nltk.corpus.stopwords.words('english')\n",
    "        newStops = [\"oh\", \"rory\", \"lorelai\", \"ah\", \"ooh\", \"l\", \"r\"]\n",
    "        stopwords.extend(newStops)\n",
    "        words = word_tokenize(data)\n",
    "        wordsFiltered = []\n",
    "\n",
    "        for w in words:\n",
    "            if w not in stopwords:\n",
    "                wordsFiltered.append(w)\n",
    "                    \n",
    "        return(wordsFiltered)\n"
   ]
  },
  {
   "cell_type": "code",
   "execution_count": 71,
   "id": "1ac906c1",
   "metadata": {},
   "outputs": [
    {
     "name": "stdout",
     "output_type": "stream",
     "text": [
      "['site', 'navigation', 'main', 'cast', 'characters', 'episode', 'guide', 'recent', 'news', 'show', 'spoilers', 'images', 'photos', 'weekly', 'ratings', 'featured', 'music', 'message', 'board', 'chat', 'room', 'fan', 'extras', 'show', 'fashion', 'fun', 'games', 'mailing', 'list', 'gilmore', 'girls', 'faqs', 'related', 'links', 'link', 'site', 'site', 'info', 'contact', 'affiliates', 'charmed', 'ones', 'gilmore', 'wallpaper', 'lauren', 'online', 'transcript', 'lorelais', 'first', 'day', 'chilton', 'written', 'amy', 'directed', 'arlene', 'sanford', 'sitting', 'couch', 'porch', 'front', 'house', 'painting', 'toenails', 'red', 'squirts', 'whipped', 'cream', 'mouth', 'sarcastically', 'nice', 'thank', 'move', 'please', 'insisting', 'well', 'going', 'starting', 'private', 'school', 'tomorrow', 'yes', 'going', 'wearing', 'shoes', 'nobody', 'going', 'see', 'feet', 'okay', 'everybody', 'knows', 'private', 'school', 'girls', 'bad', 'bad', 'girls', 'always', 'wear', 'red', 'nail', 'polish', 'lull', 'conversation', 'nervous', 'starting', 'chilton', 'well', 'heard', 'bad', 'girls', 'laugh', 'lane', 'kim', 'friend', 'runs', 'lane', 'guys', 'xtc', 'apple', 'venus', 'volume', '2', 'lane', 'run', 'house', 'finished', 'half', 'toes', 'cares', 'going', 'wearing', 'shoes', 'anyway', 'rolls', 'eyes', 'goes', 'house', 'opening', 'sequence', 'starts', 'commercials', 'shows', 'opening', 'shot', 'house', 'sleeping', 'dressed', 'chilton', 'clothes', 'opens', 'door', 'mom', 'bedroom', 'mom', 'gasps', 'god', 'hi', 'whiny', 'tone', 'heart', 'attack', 'thought', 'grabs', 'pillow', 'stop', 'quarter', 'six', 'grabs', 'back', 'pillow', 'yes', 'set', 'clock', 'quarter', 'six', 'grabs', 'clock', 'shows', 'time', 'jumps', 'bed', 'stumbles', 'around', 'disoriented', 'slams', 'clock', 'ca', 'late', 'first', 'day', 'school', 'know', 'happens', 'people', 'late', 'first', 'day', 'rummaging', 'franticly', 'dresser', 'clothes', 'shorter', 'labeled', 'late', 'girl', 'ohh', 'dramatic', 'bathroom', 'takes', 'shoulders', 'steers', 'door', 'go', 'traffic', 'mom', 'runs', 'bathroom', 'shuts', 'door', 'planned', 'gon', 'na', 'get', 'early', 'gon', 'na', 'get', 'coffee', 'gon', 'na', 'take', 'shower', 'gon', 'na', 'pick', 'clothes', 'dry', 'cleaners', 'opens', 'door', 'sighs', 'god', 'clothes', 'walks', 'hall', 'trailing', 'clean', 'clothes', 'nice', 'things', 'dirty', 'look', 'closet', 'turns', 'away', 'gon', 'na', 'wear', 'blue', 'suit', 'flippy', 'skirt', 'look', 'great', 'flippy', 'skirt', 'know', 'time', 'lady', 'go', 'downstairs', 'warm', 'car', 'would', 'really', 'super', 'thank', 'hurry', 'goes', 'downstairs', 'rummages', 'drawer', 'sucks', 'sucks', 'calls', 'love', 'god', 'sighs', 'sits', 'bed', 'puts', 'socks', 'last', 'time', 'ever', 'buy', 'anything', 'furry', 'talking', 'clock', 'scene', 'changes', 'running', 'steps', 'cowboy', 'boots', 'really', 'short', 'frayed', 'shorts', 'bright', 'pink', 'tight', 'hurriedly', 'putting', 'hair', 'messy', 'ponytail', 'standing', 'foot', 'stairs', 'looks', '7', 'even', 'think', 'finishing', 'sentence', 'sighs', 'nothing', 'know', 'rodeo', 'town', 'right', 'grabs', 'picture', 'frame', 'bringing', 'baby', 'pictures', 'runs', 'door', 'pursuit', 'sorry', 'love', 'rodeo', 'rodeo', 'rules', 'scene', 'changes', 'camera', 'pans', 'town', 'finally', 'settling', 'jeep', 'stars', 'hollow', 'sign', 'done', 'plans', 'never', 'ever', 'making', 'one', 'never', 'works', 'spend', 'day', 'obsessing', 'work', 'could', 'done', 'differently', 'scene', 'changes', 'inside', 'jeep', 'driving', 'sitting', 'passenger', 'seat', 'analyzing', 'shortcomings', 'really', 'need', 'vowing', 'never', 'ever', 'make', 'plan', 'ever', 'innocent', 'victim', 'stupid', 'plans', 'go', 'past', 'old', 'school', 'looks', 'kids', 'fun', 'god', 'need', 'coffee', 'sighs', 'screen', 'shows', 'jeep', 'driving', 'several', 'different', 'roads', 'road', 'sign', 'says', 'hartford', '14', 'miles', 'screen', 'switches', 'show', 'different', 'gargoyles', 'outside', 'chilton', 'sit', 'jeep', 'peering', 'chilton', 'remember', 'smaller', 'looks', 'worried', 'yeah', 'less', 'looks', 'intimidated', 'heads', 'tilts', 'head', 'peering', 'glancing', 'mom', 'looking', 'trying', 'see', 'hunchback', 'bell', 'tower', 'look', 'sighs', 'sits', 'back', 'beams', 'motherly', 'pride', 'look', 'great', 'really', 'skeptical', 'really', 'amazing', 'kid', 'earned', 'go', 'show', 'smart', 'really', 'love', 'call', 'need', 'reaches', 'gear', 'looks', 'worried', 'kidding', 'right', 'call', 'need', 'anything', 'great', 'making', 'dirty', 'cheers', 'go', 'come', 'looks', 'clothes', 'meaningfully', 'meet', 'headmaster', 'well', 'look', 'ca', 'meet', 'anyone', 'anything', 'look', 'like', 'chick', 'hazzard', 'first', 'day', 'getting', 'going', 'get', 'jeep', 'two', 'moms', 'walking', 'stare', 'drops', 'coat', 'scurry', 'away', 'good', 'morning', 'well', 'gon', 'na', 'best', 'friends', 'puts', 'coat', 'walk', 'chilton', 'courtyard', 'go', 'looks', 'paper', 'hand', 'uh', 'ambroise', 'building', 'big', 'scary', 'one', 'great', 'thanks', 'input', 'man', 'walking', 'looks', 'especially', 'interest', 'look', 'around', 'slightly', 'bewildered', 'man', 'lost', 'yeah', 'looking', 'headmaster', 'office', 'ambroise', 'building', 'man', 'okay', 'well', 'right', 'points', 'beside', 'stairs', 'make', 'left', 'headmaster', 'office', 'end', 'hall', 'great', 'thank', 'man', 'welcome', 'grabs', 'arm', 'go', 'man', 'extends', 'hand', 'man', 'uh', 'ian', 'jack', 'daughter', 'julia', 'goes', 'school', 'shake', 'hands', 'hi', 'gilmore', 'daughter', 'looks', 'slightly', 'uncomfortable', 'ian', 'daughter', 'really', 'surprised', 'wow', 'great', 'uh', 'mean', 'daughters', 'great', 'thing', 'big', 'fans', 'flirting', 'ian', 'laughing', 'yeah', 'husband', 'love', 'meet', 'um', 'married', 'love', 'meet', 'wife', 'though', 'ian', 'divorced', 'shame', 'excuse', 'really', 'got', 'grabs', 'arm', 'right', 'got', 'ta', 'go', 'meet', 'big', 'guy', 'got', 'ta', 'get', 'back', 'work', 'rush', 'ian', 'calls', 'work', 'rushes', 'back', 'inn', 'independence', 'inn', 'run', 'ian', 'really', 'different', 'outfit', 'course', 'ian', 'ha', 'well', 'nice', 'meet', 'good', 'luck', 'school', 'tell', 'julia', 'look', 'great', 'thanks', 'ian', 'see', 'waves', 'little', 'smiles', 'mouths', 'nice', 'nice', 'man', 'feeling', 'pretty', 'good', 'right', 'yeah', 'still', 'smiling', 'want', 'get', 'mirror', 'back', 'let', 'go', 'smile', 'gone', 'rush', 'scene', 'changes', 'walking', 'stairs', 'chilton', 'look', 'around', 'good', 'big', 'stuff', 'sarcastically', 'turn', 'left', 'walk', 'screen', 'camera', 'three', 'sour', 'looking', 'girls', 'staring', 'roll', 'eyes', 'look', 'expressively', 'one', 'another', 'continue', 'way', 'screen', 'changes', 'walking', 'hallway', 'almost', 'headmaster', 'office', 'look', 'surroundings', 'apprehension', 'get', 'door', 'stand', 'front', 'staring', 'ready', 'ready', 'yes', 'open', 'doors', 'step', 'room', 'contains', 'desk', 'strict', 'looking', 'woman', 'wearing', 'library', 'glasses', 'sitting', 'stop', 'front', 'clears', 'throat', 'um', 'excuse', 'secretary', 'looks', 'suddenly', 'jumps', 'back', 'slightly', 'wow', 'hi', 'gilmore', 'daughter', 'gilmore', 'named', 'hospital', 'whacked', 'demerol', 'glances', 'realizes', 'rambling', 'never', 'mind', 'call', 'short', 'even', 'depending', 'nudges', 'headmaster', 'secretary', 'gets', 'removes', 'glasses', 'one', 'moment', 'walks', 'briskly', 'away', 'gilmores', 'watch', 'closes', 'door', 'whispering', 'see', 'happens', 'go', 'bed', 'makeup', 'grins', 'sighs', 'door', 'opens', 'behind', 'secretary', 'stands', 'stiffly', 'announcing', 'guest', 'secretary', 'headmaster', 'charleston', 'see', 'clears', 'throat', 'great', 'thanks', 'walk', 'room', 'secretary', 'shuts', 'door', 'headmaster', 'extending', 'hand', 'gilmore', 'headmaster', 'charleston', 'hi', 'wow', 'really', 'nice', 'meet', 'looks', 'around', 'looks', 'corner', 'sees', 'mother', 'couch', 'mom', 'uh', 'ex', 'grandmother', 'sweeps', 'past', 'came', 'wish', 'granddaughter', 'luck', 'first', 'day', 'school', 'looks', 'exasperated', 'look', 'wonderful', 'uniform', 'come', 'way', 'mom', 'grandmother', 'gave', 'chance', 'make', 'sure', 'hanlin', 'takes', 'good', 'care', 'gestures', 'headmaster', 'hanlin', 'headmaster', 'hanlin', 'charleston', 'grandmother', 'hanlin', 'wife', 'symphony', 'fundraising', 'committee', 'together', 'wow', 'great', 'headmaster', 'father', 'golf', 'rivals', 'still', 'fighting', 'see', 'one', 'worse', 'grandmother', 'yes', 'old', 'friends', 'well', 'nothing', 'like', 'friends', 'especially', 'old', 'everyone', 'looks', 'tad', 'oddly', 'around', 'remark', 'headmaster', 'would', 'like', 'take', 'coat', 'seat', 'looks', 'frightened', 'fine', 'headmaster', 'afraid', 'little', 'overzealous', 'furnace', 'morning', 'quite', 'warm', 'like', 'warm', 'nodding', 'head', 'like', 'idiot', 'grandmother', 'take', 'coat', 'sit', 'want', 'hanlin', 'think', 'rude', 'commanding', 'tone', 'voice', 'looking', 'extremely', 'uncomfortable', 'embarrassed', 'takes', 'coat', 'everyone', 'stares', 'grandmother', 'rolls', 'eyes', 'exhales', 'loudly', 'laundry', 'day', 'grandmother', 'hanlin', 'know', 'grade', 'point', 'average', 'sure', 'mom', 'grandmother', 'special', 'girl', 'take', 'good', 'care', 'headmaster', 'best', 'emily', 'everyone', 'sits', 'going', 'problem', 'totally', 'low', 'maintenance', 'know', 'like', 'honda', 'know', 'easy', 'looks', 'embarrassed', 'nice', 'office', 'grandmother', 'well', 'think', 'take', 'anymore', 'precious', 'time', 'lovely', 'see', 'give', 'bitty', 'love', 'kisses', 'cheeks', 'headmaster', 'headmaster', 'tell', 'richard', 'see', 'club', 'sunday', 'grandmother', 'wonderful', 'day', 'want', 'hear', 'need', 'ride', 'horse', 'parked', 'outside', 'walks', 'room', 'nice', 'meet', 'shakes', 'hands', 'headmaster', 'kisses', 'forehead', 'great', 'day', 'headmaster', 'want', 'forget', 'coat', 'turns', 'would', 'embarrassing', 'laughs', 'walks', 'office', 'scene', 'changes', 'grandmother', 'walking', 'hall', 'grandmother', 'leave', 'house', 'looking', 'like', 'kind', 'impression', 'think', 'gon', 'na', 'make', 'sighs', 'mother', 'grandmother', 'told', 'came', 'put', 'good', 'word', 'need', 'good', 'word', 'grandmother', 'allowed', 'say', 'grandmother', 'allowed', 'pay', 'ca', 'actually', 'set', 'foot', 'premises', 'want', 'get', 'rules', 'straight', 'street', 'drive', 'street', 'maybe', 'avoid', 'neighborhood', 'altogether', 'although', 'doctor', 'right', 'block', 'maybe', 'get', 'special', 'permission', 'bleeding', 'looking', 'incredibly', 'annoyed', 'patience', 'wearing', 'thin', 'sorry', 'surprised', 'see', 'grandmother', 'thought', 'important', 'school', 'know', 'gilmore', 'amongst', 'good', 'thought', 'grandmother', 'gilmores', 'actually', 'clothing', 'note', 'get', 'work', 'see', 'later', 'grandmother', 'dinner', 'friday', 'night', 'spurs', 'please', 'walks', 'away', 'thrusts', 'arms', 'annoyance', 'commercials', 'shows', 'opening', 'shot', 'outside', 'chilton', 'headmaster', 'sitting', 'office', 'headmaster', 'obviously', 'bright', 'girl', 'miss', 'gilmore', 'thank', 'headmaster', 'good', 'grades', 'teachers', 'like', 'lot', 'social', 'activities', 'though', 'well', 'living', 'stars', 'hollow', 'kind', 'social', 'activity', 'actually', 'headmaster', 'nothing', 'school', 'appealed', 'work', 'mother', 'inn', 'school', 'sometimes', 'german', 'club', 'three', 'us', 'two', 'left', 'seeing', 'schindler', 'list', 'headmaster', 'aspirations', 'want', 'go', 'harvard', 'study', 'journalism', 'political', 'science', 'headmaster', 'way', 'christiane', 'amanpour', 'headmaster', 'really', 'yes', 'headmaster', 'cokie', 'roberts', 'headmaster', 'oprah', 'rosie', 'one', 'women', 'view', 'headmaster', 'wish', 'christiane', 'amanpour', 'wish', 'exactly', 'want', 'headmaster', 'travel', 'see', 'world', 'close', 'report', 'really', 'going', 'part', 'something', 'big', 'headmaster', 'part', 'something', 'big', 'tv', 'lead', 'police', 'high', 'speed', 'chase', 'quicker', 'way', 'achieve', 'goal', 'tv', 'nothing', 'maybe', 'journalist', 'write', 'books', 'articles', 'see', 'want', 'sure', 'see', 'something', 'headmaster', 'looks', 'papers', 'notice', 'debating', 'teams', 'also', 'missing', 'resume', 'headmaster', 'nods', 'stands', 'known', 'grandparents', 'quite', 'time', 'know', 'headmaster', 'fact', 'party', 'house', 'last', 'week', 'delicious', 'lobster', 'puffs', 'ever', 'eaten', 'fond', 'nice', 'headmaster', 'sits', 'across', 'headmaster', 'none', 'however', 'benefit', 'chilton', 'one', 'highest', 'academic', 'standards', 'school', 'america', 'may', 'smartest', 'girl', 'stars', 'hollow', 'different', 'place', 'pressures', 'greater', 'rules', 'stricter', 'expectations', 'high', 'make', 'received', 'one', 'finest', 'educations', 'one', 'get', 'reason', 'achieve', 'goals', 'however', 'since', 'starting', 'late', 'used', 'highly', 'competitive', 'atmosphere', 'good', 'chance', 'fail', 'fine', 'failure', 'part', 'life', 'part', 'chilton', 'understand', 'looking', 'unsure', 'liked', 'lobster', 'puffs', 'huh', 'headmaster', 'take', 'miss', 'james', 'administration', 'office', 'across', 'hall', 'hands', 'folder', 'takes', 'leaves', 'room', 'puts', 'glasses', 'scene', 'changes', 'walks', 'administration', 'office', 'goes', 'desk', 'puts', 'folder', 'hi', 'looking', 'miss', 'james', 'miss', 'james', 'name', 'gilmore', 'go', 'miss', 'james', 'fill', 'please', 'miss', 'james', 'takes', 'folder', 'gives', 'sheet', 'pencil', 'miss', 'james', 'puts', 'folder', 'desk', 'side', 'girl', 'desk', 'looks', 'around', 'stealthily', 'takes', 'folder', 'gives', 'somebody', 'window', 'scene', 'changes', 'bushes', 'outside', 'window', 'three', 'girls', 'ones', 'stared', 'stairs', 'girl', '1', 'well', 'girl', '2', 'shut', 'girl', '3', 'hurry', 'please', 'spiders', 'girl', '2', 'gilmore', 'girl', '1', 'nice', 'stripper', 'name', 'girl', '2', 'formerly', 'stars', 'hollow', 'high', 'school', 'girl', '1', 'girl', '2', 'make', 'left', 'haystacks', 'follow', 'cows', 'perfect', 'attendance', 'grade', 'point', 'average', 'girl', '3', 'bugs', 'dirt', 'twigs', 'girl', '2', 'journalism', 'major', 'girl', '1', 'means', 'going', 'school', 'paper', 'girl', '2', 'necessarily', 'got', 'thousand', 'recommendations', 'popular', 'adults', 'girl', '1', 'going', 'school', 'paper', 'girl', '2', 'know', 'going', 'paper', 'never', 'catch', 'month', 'behind', 'girl', '1', 'tutor', 'like', 'big', 'sister', 'girl', '2', 'funny', 'girl', '3', 'okay', 'lizard', 'goodbye', 'girl', '2', 'letting', 'extra', 'people', 'take', 'space', 'screw', 'curve', 'need', 'new', 'kids', 'girl', '1', 'late', 'girl', '2', 'says', 'psst', 'window', 'someone', 'takes', 'folder', 'scene', 'changes', 'back', 'office', 'miss', 'james', 'giving', 'stuff', 'miss', 'james', 'locker', 'number', 'schedule', 'rules', 'school', 'chilton', 'code', 'honor', 'words', 'school', 'song', 'must', 'recited', 'upon', 'demand', 'happen', 'anytime', 'anyplace', 'latin', 'get', 'extra', 'credit', 'questions', 'uh', 'moment', 'miss', 'james', 'make', 'appointment', 'guidance', 'counselor', 'winters', 'handles', 'everything', 'bulimia', 'pregnancy', 'go', 'nurse', 'coach', 'rubens', 'welcome', 'chilton', 'scene', 'changes', 'walking', 'road', 'luke', 'diner', 'dry', 'cleaning', 'goes', 'door', 'passes', 'man', 'way', 'smiling', 'sighs', 'already', 'longest', 'day', 'life', 'ten', 'luke', 'fixing', 'looks', 'like', 'toaster', 'coffee', 'funny', 'luke', 'give', 'herbal', 'tea', 'herbal', 'tea', 'morning', 'coffee', 'morning', 'luke', 'every', 'morning', 'coffee', 'morning', 'jumbo', 'coffee', 'morning', 'need', 'coffee', 'iv', 'luke', 'give', 'tea', 'balance', 'bar', 'please', 'please', 'please', 'tell', 'kidding', 'luke', 'kidding', 'goes', 'back', 'gets', 'coffee', 'pot', 'sick', 'luke', 'yep', 'fiend', 'luke', 'go', 'go', 'please', 'luke', 'want', 'know', 'stuff', 'nervous', 'system', 'chart', 'love', 'charts', 'luke', 'maybe', 'next', 'time', 'happened', 'morning', 'awful', 'started', 'chilton', 'luke', 'really', 'yeah', 'sees', 'looking', 'strangely', 'luke', 'dressed', 'take', 'chilton', 'fancy', 'school', 'clothes', 'cleaners', 'fuzzy', 'clock', 'purr', 'time', 'luke', 'purr', 'fuzzy', 'purrs', 'never', 'mind', 'got', 'ta', 'go', 'plan', 'damn', 'luke', 'next', 'time', 'getting', 'tea', 'stalks', 'diner', 'luke', 'pulls', 'looks', 'like', 'chicken', 'bone', 'toaster', 'scene', 'changes', 'miss', 'patty', 'standing', 'next', 'street', 'lots', 'little', 'girls', 'pink', 'outfits', 'twirling', 'batons', 'miss', 'patty', 'visualize', 'ladies', 'thanksgiving', 'day', 'parade', 'standing', 'fifth', 'avenue', '100', 'beautiful', 'boys', 'marching', 'place', 'behind', 'front', 'fabulous', 'legs', 'perfect', 'tush', 'baton', 'fire', 'crowd', 'goes', 'nuts', 'okay', 'cookie', 'time', 'looks', 'around', 'sees', 'walking', 'street', 'hi', 'hi', 'patty', 'miss', 'patty', 'today', 'first', 'day', 'chilton', 'yeah', 'got', 'dropping', 'miss', 'patty', 'wore', 'look', 'time', 'see', 'patty', 'miss', 'patty', 'bye', 'walks', 'around', 'jeep', 'gets', 'miss', 'patty', 'walks', 'back', 'studio', 'miss', 'patty', 'ladies', 'see', 'naked', 'girls', 'keep', 'leotards', 'brazil', 'scene', 'changes', 'jeep', 'pulling', 'gilmore', 'house', 'gets', 'car', 'somewhat', 'uncoordinated', 'coffee', 'dry', 'cleaning', 'dropping', 'clothes', 'everywhere', 'staggers', 'house', 'goes', 'phone', 'ringing', 'struggles', 'find', 'cordless', 'finally', 'finding', 'heap', 'junk', 'falling', 'back', 'onto', 'couch', 'hello', 'grandmother', 'mom', 'grandmother', 'going', 'shopping', 'afternoon', 'thought', 'pick', 'things', 'like', 'grandmother', 'couple', 'extra', 'skirts', 'tops', 'school', 'ok', 'already', 'took', 'care', 'mom', 'got', 'two', 'skirts', 'bunch', 'tops', 'grandmother', 'five', 'days', 'school', 'week', 'sure', 'days', 'week', 'underwear', 'go', 'till', 'thursday', 'struggling', 'pull', 'cowboy', 'boots', 'grandmother', 'joke', 'two', 'skirts', 'fine', 'bother', 'grandmother', 'gets', 'one', 'dirty', 'well', 'wear', 'one', 'grandmother', 'gets', 'dirty', 'use', 'newfangled', 'thing', 'called', 'washing', 'machine', 'town', 'chipped', 'bought', 'one', 'turn', 'tuesday', 'grandmother', 'socks', 'chilton', 'special', 'logo', 'socks', 'school', 'sweater', 'might', 'want', 'sweater', 'vest', 'bookbag', 'getting', 'cut', 'merchandise', 'grandmother', 'things', 'one', 'grandmother', 'least', 'getting', 'chilton', 'coat', 'size', '6', 'mom', 'please', 'grandmother', 'simple', 'question', 'six', 'get', 'size', 'eight', 'case', 'grows', 'grandmother', 'grows', 'buy', 'another', 'ok', 'well', 'six', 'great', 'got', 'ta', 'go', 'mom', 'bye', 'scene', 'changes', 'classroom', 'teacher', 'pacing', 'front', 'lecturing', 'teacher', 'french', 'culture', 'dominant', 'outside', 'cultural', 'influence', 'especially', 'russia', 'monied', 'class', 'english', 'culture', 'also', 'impact', 'tolstoy', 'favorite', 'author', 'instance', 'girl', '2', 'raises', 'hand', 'briefly', 'dickens', 'teacher', 'yes', 'last', 'week', 'discovered', 'dostoevski', 'main', 'authorial', 'influences', 'girl', '2', 'raises', 'hand', 'george', 'sand', 'balzac', 'looks', 'slightly', 'apprehensively', 'teacher', 'good', 'tolstoy', 'commenced', 'writing', 'war', 'peace', 'anna', 'karenina', 'count', 'leo', 'would', 'turn', 'girl', '2', 'david', 'copperfield', 'teacher', 'correct', 'would', 'turn', 'david', 'copperfield', 'inspiration', 'door', 'opens', 'cute', 'guy', 'walks', 'teacher', 'dugray', 'guy', 'sir', 'hands', 'teacher', 'note', 'teacher', 'nice', 'back', 'hope', 'grandfather', 'feeling', 'better', 'guy', 'much', 'better', 'sir', 'teacher', 'good', 'take', 'seat', 'please', 'guy', 'walks', 'seat', 'leering', 'openly', 'making', 'uncomfortable', 'teacher', 'great', 'expectations', 'tale', 'two', 'cities', 'little', 'dorrit', 'major', 'influences', 'leo', 'tolstoy', 'guy', 'leans', 'forward', 'talk', 'friend', 'seat', 'front', 'guy', '1', 'guy', '2', 'new', 'girl', 'teachers', 'two', 'literary', 'masters', 'tolstoy', 'dickens', 'bell', 'rings', 'class', 'dismissed', 'girls', '1', '2', '3', 'looking', 'notes', 'disdain', 'tries', 'smile', 'guy', '1', 'looks', 'like', 'got', 'mary', 'looking', 'teacher', 'miss', 'uh', 'gilmore', 'could', 'come', 'please', 'goes', 'last', 'week', 'study', 'material', 'hands', 'huge', 'binder', 'crammed', 'full', 'papers', 'test', 'tomorrow', 'since', 'new', 'take', 'makeup', 'test', 'monday', 'sufficient', 'time', 'monday', 'sure', 'fine', 'looking', 'overwhelmed', 'teacher', 'overview', 'find', 'helpful', 'borrow', 'one', 'student', 'personal', 'notes', 'tend', 'detailed', 'detailed', 'teacher', 'seems', 'daunting', 'right', 'know', 'okay', 'fine', 'moves', 'leave', 'room', 'teacher', 'remember', 'get', 'notes', 'lifesaver', 'scene', 'changes', 'coming', 'room', 'almost', 'walks', 'girl', '2', 'girl', '2', 'paris', 'see', 'come', 'paris', 'know', 'gilmore', 'stars', 'hollow', 'call', 'paris', 'going', 'paris', 'nice', 'innocent', 'act', 'least', 'know', 'going', 'drama', 'club', 'franklin', 'school', 'paper', 'going', 'find', 'locker', 'first', 'paris', 'gon', 'na', 'editor', 'next', 'year', 'well', 'good', 'tries', 'move', 'away', 'paris', 'steps', 'front', 'paris', 'also', 'top', 'class', 'intend', 'valedictorian', 'graduate', 'okay', 'going', 'paris', 'never', 'catch', 'never', 'beat', 'school', 'domain', 'franklin', 'domain', 'ever', 'forget', 'walks', 'looks', 'strangely', 'guess', 'going', 'let', 'borrow', 'notes', 'huh', 'continues', 'hallway', 'commercials', 'opening', 'scene', 'outside', 'independence', 'inn', 'switches', 'kitchen', 'sookie', 'smelling', 'peaches', 'fruit', 'man', 'looking', 'sookie', 'smaller', 'last', 'batch', 'fruit', 'man', 'sookie', 'smaller', 'means', 'watery', 'good', 'peach', 'taste', 'fruit', 'man', 'plenty', 'peach', 'taste', 'know', 'peaches', 'sookie', 'ones', 'bottom', 'fruit', 'man', 'great', 'sure', 'check', 'sarcastically', 'give', 'every', 'last', 'one', 'nice', 'good', 'squeeze', 'would', 'actually', 'want', 'leave', 'one', 'could', 'sell', 'somebody', 'else', 'wait', 'minute', 'missed', 'one', 'going', 'tell', 'one', 'going', 'let', 'impeccably', 'good', 'radar', 'picks', 'peach', 'got', 'throws', 'hands', 'walks', 'kitchen', 'okay', 'look', 'great', 'right', 'sookie', 'yes', 'supposed', 'look', 'good', 'morning', 'jackson', 'fruit', 'man', 'sookie', 'first', 'day', 'supposed', 'look', 'fabulous', 'like', 'night', 'playing', 'quarters', 'sookie', 'nobody', 'cares', 'looked', 'everybody', 'cared', 'sookie', 'moms', 'headmaster', 'mom', 'luke', 'miss', 'patty', 'new', 'fire', 'chief', 'tiny', 'head', 'sookie', 'holds', 'peach', 'taste', 'bites', 'peach', 'little', 'watery', 'jackson', 'planned', 'sookie', 'say', 'something', 'mother', 'walked', 'headmaster', 'office', 'sookie', 'really', 'knew', 'wake', 'late', 'humiliate', 'sookie', 'wow', 'good', 'best', 'sookie', 'takes', 'peach', 'rolls', 'along', 'floor', 'jackson', 'would', 'love', 'know', 'sookie', 'rolling', 'differently', 'extra', 'water', 'jackson', 'makes', 'perfect', 'sense', 'sookie', 'would', 'ignore', 'women', 'cause', 'thing', 'matters', 'got', 'great', 'school', 'looked', 'amazing', 'uniform', 'excited', 'admire', 'much', 'jumping', 'new', 'school', 'hero', 'sookie', 'mine', 'jackson', 'yeah', 'sign', 'sookie', 'peaches', 'please', 'exasperated', 'michel', 'walks', 'michel', 'french', 'accent', 'excuse', 'phone', 'call', 'fetch', 'like', 'dog', 'like', 'cookie', 'raise', 'thanks', 'peach', 'hands', 'peach', 'jackson', 'sookie', 'takes', 'peach', 'walks', 'scene', 'changes', 'parlor', 'inn', 'old', 'women', 'looking', 'book', 'walking', 'walks', 'michel', 'trailing', 'woman', '1', 'would', 'absolutely', 'wonderful', 'supposed', 'darling', 'shops', 'street', 'excuse', 'sir', 'michel', 'tell', 'find', 'best', 'antiques', 'michel', 'house', 'guess', 'walks', 'women', 'dismayed', 'mom', 'give', 'number', 'remember', 'giving', 'number', 'yeah', 'well', 'must', 'losing', 'mind', 'uh', 'sorry', 'mom', 'hold', 'one', 'second', 'um', 'drella', 'take', 'notch', 'drella', 'harp', 'player', 'playing', 'loud', 'ignores', 'thanks', 'okay', 'back', 'grandmother', 'wanted', 'known', 'bought', 'parking', 'space', 'chilton', 'grandmother', 'hard', 'come', 'pulled', 'strings', 'mom', 'car', 'grandmother', 'got', 'birthday', 'coming', 'soon', 'drella', 'still', 'playing', 'loudly', 'ca', 'hear', 'okay', 'hold', 'second', 'um', 'drella', 'drella', 'little', 'softer', 'please', 'drella', 'hey', 'look', 'like', 'got', 'panasonic', 'stamped', 'ass', 'mom', 'buying', 'car', 'grandmother', 'smart', 'girl', 'responsible', 'need', 'one', 'grandmother', 'way', 'get', 'around', 'get', 'school', 'taking', 'bus', 'grandmother', 'hate', 'taking', 'bus', 'drug', 'dealers', 'take', 'bus', 'know', 'mom', 'got', 'ta', 'go', 'grandmother', 'fine', 'discuss', 'later', 'date', 'okay', 'bye', 'drella', 'plays', 'much', 'softer', 'phone', 'scene', 'changes', 'walking', 'chilton', 'hallway', 'guy', '1', 'comes', 'behind', 'guy', '1', 'hey', 'mary', 'guy', '1', 'yeah', 'name', 'guy', '1', 'tristin', 'hi', 'tristin', 'new', 'yeah', 'first', 'day', 'tristin', 'remmy', 'class', 'rough', 'yeah', 'seemed', 'intense', 'tristin', 'could', 'loan', 'notes', 'would', 'help', 'really', 'great', 'tristin', 'yeah', 'great', 'walking', 'forward', 'pushing', 'wall', 'know', 'remmy', 'said', 'getting', 'someone', 'notes', 'would', 'tristin', 'could', 'even', 'help', 'study', 'want', 'uh', 'kind', 'view', 'studying', 'solitary', 'activity', 'thanks', 'tristin', 'bye', 'mary', 'walks', 'scene', 'changes', 'parlor', 'drella', 'playing', 'harp', 'people', 'listening', 'talking', 'man', 'teenage', 'guy', 'completely', 'understand', 'man', 'car', 'boy', 'tries', 'say', 'something', 'brings', 'car', 'scratched', 'boy', 'backed', 'car', 'man', 'know', 'car', 'scratched', 'parked', 'let', 'calm', 'sir', 'car', 'looked', 'tomorrow', 'sure', 'find', 'way', 'resolve', 'meantime', 'would', 'love', 'lunch', 'dessert', 'must', 'anything', 'homemade', 'ice', 'cream', 'delicious', 'life', 'know', 'never', 'say', 'man', 'think', 'thank', 'thank', 'man', 'walks', 'boy', 'swear', 'scratch', 'car', 'thought', 'unreliable', 'bad', 'driver', 'derek', 'okay', 'boy', 'drive', 'sweetie', 'sure', 'take', 'musky', 'tomorrow', 'guys', 'look', 'sure', 'buff', 'nothing', 'okay', 'boy', 'okay', 'real', 'nice', 'outfit', 'wearing', 'today', 'thank', 'derek', 'derek', 'walks', 'michel', 'walks', 'michel', 'faithful', 'pooch', 'say', 'someone', 'needs', 'talk', 'mother', 'michel', 'possible', 'looks', 'around', 'standing', 'counter', 'ian', 'jack', 'chilton', 'possible', 'michel', 'resemblance', 'walks', 'hi', 'ian', 'hi', 'bad', 'time', 'ian', 'well', 'meet', 'associate', 'lunch', 'coming', 'new', 'york', 'thought', 'meet', 'beautiful', 'inn', 'good', 'enjoy', 'lunch', 'ian', 'thanks', 'also', 'wondering', 'maybe', 'could', 'take', 'dinner', 'sometime', 'little', 'ian', 'company', 'food', 'interests', 'flattered', 'ian', 'yes', 'dad', 'ian', 'mom', 'although', 'still', 'finding', 'really', 'hard', 'believe', 'mean', 'chilton', 'dad', 'ian', 'sounds', 'bad', 'bad', 'tricky', 'know', 'started', 'think', 'let', 'fall', 'bad', 'crowd', 'start', 'hooking', 'ian', 'well', 'see', 'go', 'ca', 'date', 'anyone', 'ian', 'casual', 'dinner', 'sorry', 'walks', 'around', 'counter', 'ian', 'okay', 'tell', 'going', 'china', 'week', 'business', 'get', 'back', 'going', 'try', 'china', 'wow', 'ian', 'impressed', 'rome', 'impressed', 'china', 'china', 'wow', 'ian', 'laughs', 'picks', 'card', 'desk', 'puts', 'suit', 'gilmore', 'general', 'manager', 'talk', 'soon', 'safe', 'trip', 'ian', 'walks', 'walking', 'walk', 'well', 'michel', 'making', 'sick', 'aw', 'honey', 'try', 'watch', 'walk', 'away', 'michel', 'stop', 'go', 'walk', 'ca', 'bad', 'michel', 'go', 'away', 'walks', 'follows', 'little', 'attitude', 'make', 'think', 'mean', 'walks', 'people', 'listening', 'drella', 'play', 'harp', 'suddenly', 'stops', 'drella', 'lunch', 'walks', 'people', 'look', 'around', 'surprised', 'scene', 'changes', 'chilton', 'finds', 'locker', 'tries', 'open', 'stuck', 'pulls', 'really', 'hard', 'opens', 'stumble', 'backward', 'right', 'paris', 'holding', 'really', 'big', 'project', 'intricate', 'castle', 'dropped', 'got', 'bumped', 'project', 'broke', 'million', 'pieces', 'sorry', 'paris', 'please', 'sorry', 'accident', 'locker', 'slipped', 'pulled', 'hard', 'mean', 'water', 'moat', 'paris', 'get', 'away', 'stalks', 'classroom', 'picks', 'books', 'puts', 'locker', 'taps', 'boy', 'walking', 'excuse', 'need', 'ness', 'history', 'boy', 'behind', 'points', 'classroom', 'paris', 'walked', 'leaves', 'course', 'slams', 'locker', 'walks', 'classroom', 'paris', 'sees', 'got', 'kidding', 'sits', 'seat', 'tristin', 'sits', 'right', 'near', 'tristin', 'hey', 'mary', 'teacher', 'ok', 'left', 'projects', 'friday', 'gaynor', 'today', 'pick', 'miss', 'geller', 'paris', 'stands', 'project', 'teacher', 'miss', 'geller', 'sufficient', 'time', 'complete', 'project', 'paris', 'yes', 'teacher', 'yet', 'done', 'paris', 'teacher', 'receive', 'incomplete', 'project', 'stands', 'fault', 'teacher', 'gilmore', 'wrecked', 'project', 'paris', 'shut', 'teacher', 'gilmore', 'gilmore', 'teacher', 'gilmore', 'yes', 'wrecked', 'project', 'locked', 'got', 'stuck', 'paris', 'stay', 'teacher', 'go', 'whatever', 'fault', 'teacher', 'need', 'pick', 'one', 'one', 'teacher', 'one', 'name', 'teacher', 'thank', 'wrecked', 'paris', 'project', 'class', 'teacher', 'convenient', 'locked', 'got', 'stuck', 'paris', 'stop', 'teacher', 'miss', 'gilmore', 'since', 'say', 'wrecked', 'miss', 'geller', 'project', 'may', 'help', 'fix', 'tomorrow', 'fine', 'paris', 'want', 'help', 'mind', 'paris', 'stay', 'trying', 'help', 'paris', 'well', 'teacher', 'ladies', 'enough', 'miss', 'geller', 'want', 'miss', 'gilmore', 'help', 'may', 'tomorrow', 'done', 'receive', 'incomplete', 'understood', 'paris', 'yes', 'sits', 'teacher', 'long', 'standing', 'class', 'new', 'student', 'say', 'hello', 'gilmore', 'class', 'hi', 'tristin', 'hello', 'mary', 'sits', 'commercials', 'opening', 'scene', 'welcome', 'stars', 'hollow', 'sign', 'population', 'scene', 'shifts', 'miss', 'patty', 'next', 'street', 'girls', 'studio', 'walking', 'books', 'heads', 'miss', 'patty', 'walk', 'smooth', 'new', 'harry', 'potter', 'heads', 'drop', 'harry', 'die', 'wo', 'anymore', 'books', 'sees', 'walking', 'dressed', 'morning', 'missy', 'ignores', 'scene', 'shifts', 'walking', 'luke', 'diner', 'luke', 'walking', 'near', 'entrance', 'squeeze', 'get', 'luke', 'see', 'voted', 'mr', 'personality', 'new', 'millennium', 'crown', 'luke', 'mean', 'usually', 'come', 'time', 'pick', 'school', 'luke', 'pours', 'coffee', 'without', 'argument', 'thank', 'luke', 'welcome', 'lectures', 'luke', 'blood', 'sugar', 'low', 'eat', 'apple', 'get', 'back', 'god', 'one', 'hectic', 'bizarro', 'day', 'luke', 'yeah', 'yeah', 'morning', 'late', 'mother', 'existing', 'father', 'father', 'chilton', 'drove', 'way', 'hartford', 'ask', 'luke', 'really', 'going', 'trying', 'appear', 'like', 'care', 'got', 'kid', 'school', 'whole', 'thing', 'seemed', 'little', 'weird', 'luke', 'good', 'good', 'luke', 'yeah', 'think', 'good', 'turned', 'okay', 'luke', 'mean', 'probably', 'old', 'right', 'old', 'luke', 'mean', 'got', 'kid', 'high', 'school', 'well', 'luke', 'yeah', 'young', 'people', 'young', 'people', 'old', 'luke', 'yeah', 'like', 'guy', 'asked', 'luke', 'going', 'going', 'kind', 'smiles', 'bit', 'thinks', 'likes', 'cell', 'phone', 'rings', 'points', 'sign', 'says', 'cell', 'phones', 'hi', 'babette', 'okay', 'right', 'thanks', 'hangs', 'uh', 'go', 'pulls', 'wallet', 'luke', 'keep', 'gave', 'decaf', 'frowns', 'walks', 'door', 'scene', 'changes', 'man', 'woman', 'holding', 'cat', 'sitting', 'yard', 'live', 'right', 'next', 'gilmores', 'jeep', 'pulls', 'gets', 'hey', 'babette', 'sorry', 'call', 'like', 'okay', 'babette', 'appreciate', 'babette', 'sudden', 'pull', 'get', 'truck', 'start', 'sniffing', 'around', 'strange', 'let', 'go', 'talk', 'pets', 'cat', 'man', 'gets', 'stands', 'next', 'babette', 'man', 'tell', 'gnome', 'babette', 'kicked', 'gnome', 'babette', 'right', 'head', 'man', 'cool', 'sorry', 'gnome', 'okay', 'babette', 'fine', 'sugar', 'would', 'trust', 'boys', 'gnome', 'kicking', 'says', 'lot', 'man', 'character', 'yes', 'well', 'gon', 'na', 'go', 'take', 'care', 'thanks', 'walks', 'house', 'men', 'porch', 'goes', 'steps', 'talk', 'hey', 'um', 'man', '1', 'live', 'yeah', 'man', '1', 'supposed', 'install', 'dsl', 'gilmore', 'yes', 'man', '1', 'mick', 'nice', 'meet', 'could', 'get', 'porch', 'mick', 'told', 'would', 'look', 'ceramic', 'frog', 'key', 'inside', 'ca', 'find', 'frog', 'order', 'dsl', 'mick', 'order', 'placed', 'emily', 'gilmore', 'grandmother', 'would', 'done', 'frog', 'search', 'put', 'us', 'way', 'behind', 'man', '2', 'hey', 'mick', 'found', 'mick', 'found', 'frog', 'man', '2', 'frog', 'turtle', 'mick', 'says', 'frog', 'turtle', 'mick', 'really', 'trust', 'going', 'cancel', 'dsl', 'order', 'mick', 'sure', 'already', 'paid', 'yeah', 'know', 'need', 'dsl', 'thanks', 'coming', 'guys', 'go', 'guys', 'leave', 'walks', 'jeep', 'babette', 'problem', 'nothing', 'shakespeare', 'could', 'turn', 'really', 'good', 'play', 'gets', 'jeep', 'scene', 'changes', 'camera', 'piece', 'paper', 'says', 'paris', 'sorry', 'please', 'let', 'help', 'handwriting', 'teacher', 'romanists', 'great', 'adroitness', 'drawn', 'three', 'walls', 'around', 'hitherto', 'protected', 'one', 'could', 'reform', 'whereby', 'christians', 'fallen', 'terribly', 'said', 'gave', 'note', 'paris', 'immediately', 'crumpled', 'threw', 'floor', 'sees', 'paris', 'give', 'answer', 'martin', 'luther', 'teacher', 'good', 'miss', 'gilmore', 'year', 'martin', 'luther', 'address', 'christian', 'nobility', 'sees', 'paris', 'lean', 'forward', '1520', 'teacher', 'good', 'miss', 'gilmore', 'next', 'time', 'class', 'paris', 'goes', 'desk', 'paris', 'stay', 'way', 'make', 'school', 'living', 'hell', 'swallows', 'apprehensively', 'tristin', 'see', 'tomorrow', 'mary', 'name', 'scene', 'changes', 'camera', 'shows', 'street', 'corner', 'switches', 'inside', 'salon', 'appears', 'searching', 'somebody', 'stylist', 'help', 'brushes', 'past', 'god', 'wish', 'knocks', 'mother', 'hairdryer', 'grandmother', 'earth', 'buying', 'us', 'dsl', 'grandmother', 'hardly', 'place', 'canceled', 'order', 'happening', 'grandmother', 'needs', 'internet', 'school', 'internet', 'grandmother', 'faster', 'well', 'like', 'internet', 'slow', 'okay', 'turn', 'walk', 'around', 'dance', 'make', 'sandwich', 'dsl', 'dancing', 'walking', 'starve', 'work', 'play', 'seen', 'shining', 'mom', 'grandmother', 'earth', 'talking', 'also', 'cars', 'parking', 'spaces', 'uniforms', 'supplied', 'mother', 'final', 'discussion', 'grandmother', 'stubborn', 'usual', 'mom', 'stubborn', 'person', 'always', 'needed', 'work', 'problems', 'take', 'care', 'way', 'born', 'grandmother', 'florence', 'dripping', 'appreciate', 'done', 'paying', 'school', 'forgotten', 'wo', 'let', 'daughter', 'decide', 'live', 'validate', 'parking', 'grandmother', 'stamp', 'desk', 'thank', 'emily', 'looks', 'embarrassed', 'dismayed', 'walks', 'scene', 'changes', 'outside', 'chilton', 'drinking', 'coffee', 'waiting', 'come', 'emerges', 'mm', 'hey', 'drops', 'backpack', 'hugs', 'whole', 'thing', 'idea', 'day', 'sucked', 'promise', 'swear', 'mother', 'life', 'yet', 'want', 'stop', 'hugging', 'still', 'hugging', 'still', 'hugging', 'smooch', 'brought', 'us', 'coffee', 'shocked', 'triple', 'caps', 'easy', 'foam', 'work', 'stick', 'fingers', 'light', 'socket', 'laughs', 'picks', 'backpack', 'come', 'staggers', 'weight', 'expect', 'get', 'smart', 'one', 'day', 'expect', 'lot', 'things', 'tell', 'know', 'one', 'big', 'long', 'scary', 'tweedy', 'bad', 'eight', 'hours', 'add', 'hair', 'spray', 'got', 'day', 'one', 'girls', 'already', 'hates', 'guys', 'weird', 'weirder', 'guys', 'yeah', 'kept', 'calling', 'mary', 'kidding', 'wow', 'ca', 'believe', 'still', 'say', 'mean', 'means', 'like', 'virgin', 'mary', 'means', 'think', 'look', 'like', 'kidding', 'well', 'would', 'called', 'thought', 'looked', 'like', 'slut', 'well', 'might', 'added', 'magdalene', 'wow', 'biblical', 'insults', 'advanced', 'school', 'laugh', 'turns', 'engine', 'scene', 'changes', 'night', 'town', 'lit', 'lights', 'along', 'streets', 'lane', 'walking', 'food', 'hand', 'lane', 'weird', 'school', 'today', 'mean', 'finally', 'noticed', 'kids', 'let', 'say', 'sad', 'lot', 'yeah', 'well', 'add', 'couple', 'plaid', 'skirts', 'got', 'chilton', 'freaks', 'lane', 'totally', 'miss', 'miss', 'idea', 'tuesdays', 'thursdays', 'go', 'hartford', 'business', 'class', 'lane', 'comes', 'along', 'guys', 'shop', 'study', 'join', 'cult', 'shave', 'heads', 'lane', 'really', 'except', 'shaving', 'heads', 'part', 'lane', 'time', 'lane', 'late', 'dinner', 'lane', 'mother', 'gon', 'na', 'kill', 'keep', 'sending', 'home', 'fat', 'happy', 'lane', 'sorry', 'found', 'web', 'site', 'sells', 'tofu', 'bulk', 'kidding', 'right', 'lane', 'shakes', 'head', 'yesterday', 'went', 'bought', 'bigger', 'fridge', 'takes', 'pink', 'jacket', 'handing', 'shaking', 'hair', 'boy', 'honey', 'life', 'scary', 'lane', 'crust', 'pizza', 'crust', 'least', 'lane', 'thanks', 'bye', 'bye', 'bye', 'watches', 'leave', 'pizza', 'thoughts', 'wish', 'could', 'figure', 'way', 'get', 'paris', 'back', 'yeah', 'angry', 'chicks', 'worst', 'high', 'school', 'paris', 'yeah', 'horrible', 'get', 'rid', 'got', 'pregnant', 'dropped', 'learn', 'french', 'braid', 'hair', 'even', 'better', 'sweetie', 'ca', 'let', 'kids', 'get', 'want', 'talk', 'anybody', 'parent', 'teacher', 'big', 'guy', 'named', 'moose', 'figure', 'okay', 'sees', 'laugh', 'thinking', 'way', 'paris', 'face', 'looked', 'beat', 'martin', 'luther', 'question', 'good', 'huh', '14', 'shades', 'purple', 'cool', 'tomorrow', 'shooting', '15', 'stop', 'front', 'luke', 'diner', 'hey', 'think', 'luke', 'mean', 'mean', 'think', 'cute', 'way', 'date', 'luke', 'said', 'nothing', 'dating', 'luke', 'date', 'break', 'never', 'able', 'eat', 'repeat', 'said', 'nothing', 'dating', 'luke', 'date', 'al', 'pancake', 'world', 'food', 'stinks', 'believe', 'hearing', 'al', 'food', 'stink', 'al', 'stinks', 'luke', 'comes', 'diner', 'stares', 'gilmores', 'closes', 'restaurant', 'goes', 'back', 'inside', 'end', 'lorelais', 'day', 'first', 'chilton', 'summary', 'lorelais', 'first', 'day', 'chilton', 'screencaps', 'back', 'episode', 'guide']\n"
     ]
    }
   ],
   "source": [
    "print(getWordsFromPage(2))"
   ]
  },
  {
   "cell_type": "code",
   "execution_count": null,
   "id": "6fc1b490",
   "metadata": {},
   "outputs": [],
   "source": [
    "from gensim.parsing.preprocessing import remove_stopwords\n"
   ]
  },
  {
   "cell_type": "code",
   "execution_count": null,
   "id": "0cbf4062",
   "metadata": {},
   "outputs": [],
   "source": [
    "from wordcloud import WordCloud"
   ]
  },
  {
   "cell_type": "code",
   "execution_count": null,
   "id": "a0370e0d",
   "metadata": {},
   "outputs": [],
   "source": [
    "### uses gensim parsing for stop words\n",
    "###\n",
    "def getWordsFromPage(pageNumber):\n",
    "    url = 'https://www.gilmoregirls.org/eguide/transcripts/episode{pageNumber}.html'\n",
    "    url = url.format(pageNumber=pageNumber)\n",
    "\n",
    "    response = requests.get(url)\n",
    "    soup = BeautifulSoup(response.text, 'html.parser')\n",
    "    data = ''\n",
    "    for data in soup.find_all('body'):\n",
    "        script = data.get_text()    \n",
    "        words = script.split(\",\")\n",
    "        words = ''.join(words).split(' ')\n",
    "        lower_words = [x.lower() for x in words]\n",
    "        \n",
    "        new_words = ' '.join(ch for ch in lower_words if ch.isalnum())\n",
    "        \n",
    "        words_no_stop = remove_stopwords(new_words)\n",
    "        clean_words = (words_no_stop.split())\n",
    "        string = ', '.join(str(x) for x in clean_words)\n",
    "        return(string)\n",
    "        #return(new_words.split(' '))\n",
    "        \n"
   ]
  },
  {
   "cell_type": "code",
   "execution_count": null,
   "id": "58499311",
   "metadata": {
    "scrolled": false
   },
   "outputs": [],
   "source": [
    "print(getWordsFromPage(8))"
   ]
  },
  {
   "cell_type": "code",
   "execution_count": null,
   "id": "3343c438",
   "metadata": {},
   "outputs": [],
   "source": [
    "wordcloud = WordCloud(background_color=\"white\", max_words=5000, contour_width=3, contour_color='steelblue')"
   ]
  },
  {
   "cell_type": "code",
   "execution_count": null,
   "id": "a401b455",
   "metadata": {},
   "outputs": [],
   "source": [
    "wordcloud.generate(getWordsFromPage(8))"
   ]
  },
  {
   "cell_type": "code",
   "execution_count": null,
   "id": "cb160d4e",
   "metadata": {},
   "outputs": [],
   "source": [
    "wordcloud.to_image()"
   ]
  },
  {
   "cell_type": "code",
   "execution_count": null,
   "id": "f707821c",
   "metadata": {},
   "outputs": [],
   "source": [
    "print(getNewWordsFromPage(2))"
   ]
  },
  {
   "cell_type": "code",
   "execution_count": null,
   "id": "9a17a70f",
   "metadata": {},
   "outputs": [],
   "source": []
  }
 ],
 "metadata": {
  "kernelspec": {
   "display_name": "Python 3 (ipykernel)",
   "language": "python",
   "name": "python3"
  },
  "language_info": {
   "codemirror_mode": {
    "name": "ipython",
    "version": 3
   },
   "file_extension": ".py",
   "mimetype": "text/x-python",
   "name": "python",
   "nbconvert_exporter": "python",
   "pygments_lexer": "ipython3",
   "version": "3.8.12"
  },
  "toc": {
   "base_numbering": 1,
   "nav_menu": {},
   "number_sections": true,
   "sideBar": true,
   "skip_h1_title": false,
   "title_cell": "Table of Contents",
   "title_sidebar": "Contents",
   "toc_cell": false,
   "toc_position": {},
   "toc_section_display": true,
   "toc_window_display": false
  }
 },
 "nbformat": 4,
 "nbformat_minor": 5
}
