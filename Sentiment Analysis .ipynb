{
 "cells": [
  {
   "cell_type": "code",
   "execution_count": null,
   "id": "659693e8",
   "metadata": {},
   "outputs": [],
   "source": [
    "import pandas as pd\n",
    "import matplotlib.pyplot as plt"
   ]
  },
  {
   "cell_type": "code",
   "execution_count": 10,
   "id": "d9fc8ac0",
   "metadata": {},
   "outputs": [],
   "source": [
    "from gensim.parsing.preprocessing import remove_stopwords"
   ]
  },
  {
   "cell_type": "code",
   "execution_count": 3,
   "id": "52bf26c0",
   "metadata": {},
   "outputs": [],
   "source": [
    "import seaborn as sns\n",
    "import re"
   ]
  },
  {
   "cell_type": "code",
   "execution_count": 4,
   "id": "3e0c9084",
   "metadata": {},
   "outputs": [],
   "source": [
    "from bs4 import BeautifulSoup"
   ]
  },
  {
   "cell_type": "code",
   "execution_count": 5,
   "id": "69e4ff9e",
   "metadata": {},
   "outputs": [],
   "source": [
    "import requests"
   ]
  },
  {
   "cell_type": "code",
   "execution_count": 13,
   "id": "cb6fd29e",
   "metadata": {},
   "outputs": [],
   "source": [
    "def getWordsFromPage(pageNumber):\n",
    "    url = 'https://www.gilmoregirls.org/eguide/transcripts/episode{pageNumber}.html'\n",
    "    url = url.format(pageNumber=pageNumber)\n",
    "\n",
    "    response = requests.get(url)\n",
    "    soup = BeautifulSoup(response.text, 'html.parser')\n",
    "    data = ''\n",
    "    for data in soup.find_all('body'):\n",
    "        script = data.get_text()    \n",
    "        words = script.split(\",\")\n",
    "        words = ' '.join(words).split(' ')\n",
    "        lower_words = [x.lower() for x in words]\n",
    "        \n",
    "        new_words = ' '.join(ch for ch in lower_words if ch.isalnum())\n",
    "        \n",
    "        words_no_stop = remove_stopwords(new_words)\n",
    "        return(words_no_stop.split(' '))\n",
    "        \n",
    "        #return(new_words.split(' '))\n"
   ]
  },
  {
   "cell_type": "code",
   "execution_count": 15,
   "id": "607ce387",
   "metadata": {
    "scrolled": false
   },
   "outputs": [
    {
     "name": "stdout",
     "output_type": "stream",
     "text": [
      "['girls', 'site', 'charmed', 'day', 'chilton', 'amy', 'arlene', 'sanford', 'rory', 'sitting', 'couch', 'porch', 'lorelai', 'painting', 'toenails', 'rory', 'squirts', 'whipped', 'cream', 'thank', 'insisting', 'going', 'starting', 'private', 'school', 'yes', 'going', 'wearing', 'going', 'okay', 'everybody', 'knows', 'private', 'school', 'girls', 'bad', 'wear', 'red', 'nail', 'lull', 'starting', 'heard', 'bad', 'kim', 'friend', 'runs', 'apple', 'venus', 'volume', 'lane', 'run', 'finished', 'half', 'going', 'wearing', 'shoes', 'rolls', 'eyes', 'goes', 'sequence', 'opening', 'shot', 'rory', 'dressed', 'chilton', 'clothes', 'opens', 'door', 'whiny', 'having', 'heart', 'thought', 'grabs', 'stop', 'quarter', 'yes', 'set', 'clock', 'quarter', 'grabs', 'clock', 'shows', 'jumps', 'bed', 'stumbles', 'rory', 'slams', 'late', 'day', 'know', 'happens', 'late', 'rummaging', 'franticly', 'dresser', 'labeled', 'late', 'takes', 'shoulders', 'steers', 'runs', 'bathroom', 'shuts', 'gonna', 'gonna', 'gonna', 'gonna', 'pick', 'clothes', 'dry', 'opens', 'oh', 'walks', 'hall', 'rory', 'trailing', 'clean', 'nice', 'things', 'look', 'closet', 'turns', 'gonna', 'wear', 'blue', 'suit', 'flippy', 'look', 'great', 'flippy', 'know', 'time', 'downstairs', 'warm', 'thank', 'goes', 'downstairs', 'lorelai', 'rummages', 'calls', 'oh', 'love', 'sits', 'bed', 'puts', 'time', 'buy', 'running', 'steps', 'cowboy', 'boots', 'short', 'frayed', 'bright', 'pink', 'tight', 'hurriedly', 'putting', 'messy', 'rory', 'standing', 'foot', 'stairs', 'looks', 'think', 'finishing', 'know', 'rodeo', 'right', 'picture', 'bringing', 'baby', 'runs', 'door', 'rory', 'love', 'rodeo', 'pans', 'town', 'finally', 'settling', 'jeep', 'stars', 'making', 'spend', 'day', 'obsessing', 'work', 'jeep', 'lorelai', 'driving', 'rory', 'sitting', 'passenger', 'analyzing', 'shortcomings', 'need', 'plan', 'having', 'innocent', 'victim', 'stupid', 'past', 'old', 'school', 'rory', 'looks', 'kids', 'having', 'god', 'need', 'shows', 'jeep', 'driving', 'different', 'roads', 'road', 'sign', 'says', 'hartford', '14', 'switches', 'different', 'gargoyles', 'outside', 'lorelai', 'sit', 'jeep', 'peering', 'remember', 'looks', 'looks', 'head', 'peering', 'mom', 'looking', 'trying', 'hunchback', 'bell', 'sits', 'beams', 'motherly', 'look', 'amazing', 'earned', 'smart', 'love', 'need', 'kidding', 'need', 'great', 'making', 'dirty', 'rory', 'come', 'clothes', 'meet', 'look', 'meet', 'look', 'chick', 'getting', 'going', 'lorelai', 'moms', 'walking', 'stare', 'lorelai', 'drops', 'scurry', 'good', 'oh', 'gonna', 'best', 'puts', 'coat', 'walk', 'chilton', 'paper', 'uh', 'ambroise', 'big', 'scary', 'oh', 'thanks', 'walking', 'looks', 'especially', 'look', 'slightly', 'oh', 'looking', 'office', 'ambroise', 'ah', 'right', 'points', 'left', 'office', 'end', 'thank', 'grabs', 'arm', 'man', 'extends', 'uh', 'ian', 'daughter', 'julia', 'goes', 'school', 'shake', 'lorelai', 'daughter', 'looks', 'slightly', 'wow', 'mean', 'great', 'big', 'husband', 'love', 'meet', 'um', 'love', 'meet', 'wife', 'excuse', 'got', 'gotta', 'meet', 'big', 'guy', 'gotta', 'rush', 'independence', 'run', 'different', 'outfit', 'nice', 'meet', 'good', 'luck', 'school', 'tell', 'julia', 'look', 'great', 'waves', 'little', 'smiles', 'mouths', 'nice', 'nice', 'feeling', 'pretty', 'good', 'right', 'yeah', 'want', 'gone', 'rush', 'rory', 'walking', 'stairs', 'look', 'oh', 'big', 'turn', 'oh', 'lorelai', 'walk', 'camera', 'sour', 'looking', 'staring', 'roll', 'eyes', 'look', 'expressively', 'continue', 'rory', 'walking', 'hallway', 'look', 'surroundings', 'door', 'stand', 'open', 'doors', 'step', 'room', 'contains', 'desk', 'strict', 'woman', 'wearing', 'library', 'glasses', 'sitting', 'stop', 'excuse', 'looks', 'jumps', 'lorelai', 'daughter', 'named', 'hospital', 'whacked', 'rory', 'realizes', 'short', 'lorelai', 'depending', 'headmaster', 'removes', 'briskly', 'gilmores', 'watch', 'closes', 'happens', 'bed', 'makeup', 'grins', 'lorelai', 'opens', 'secretary', 'stands', 'stiffly', 'announcing', 'headmaster', 'charleston', 'walk', 'room', 'secretary', 'shuts', 'gilmore', 'headmaster', 'nice', 'looks', 'corner', 'mother', 'uh', 'past', 'came', 'wish', 'granddaughter', 'luck', 'day', 'looks', 'rory', 'look', 'wonderful', 'come', 'way', 'gave', 'chance', 'sure', 'hanlin', 'takes', 'good', 'hanlin', 'wife', 'symphony', 'fundraising', 'committee', 'father', 'golf', 'fighting', 'oh', 'old', 'like', 'especially', 'looks', 'tad', 'oddly', 'like', 'coat', 'oh', 'afraid', 'little', 'overzealous', 'furnace', 'warm', 'like', 'head', 'like', 'lorelai', 'coat', 'sit', 'want', 'hanlin', 'think', 'tone', 'extremely', 'uncomfortable', 'embarrassed', 'takes', 'stares', 'grandmother', 'rolls', 'exhales', 'laundry', 'hanlin', 'know', 'rory', 'grade', 'point', 'sure', 'special', 'good', 'care', 'best', 'sits', 'going', 'totally', 'low', 'like', 'know', 'easy', 'looks', 'think', 'anymore', 'precious', 'lovely', 'bitty', 'cheeks', 'tell', 'richard', 'club', 'wonderful', 'day', 'want', 'hear', 'ride', 'horse', 'parked', 'nice', 'meet', 'hands', 'headmaster', 'kisses', 'great', 'oh', 'want', 'forget', 'oh', 'walks', 'grandmother', 'walking', 'leave', 'house', 'looking', 'like', 'kind', 'think', 'gonna', 'told', 'came', 'good', 'word', 'need', 'good', 'allowed', 'allowed', 'pay', 'actually', 'set', 'foot', 'want', 'rules', 'maybe', 'avoid', 'neighborhood', 'doctor', 'right', 'maybe', 'special', 'permission', 'incredibly', 'annoyed', 'patience', 'wearing', 'surprised', 'thought', 'important', 'school', 'know', 'good', 'gilmores', 'actually', 'note', 'dinner', 'friday', 'spurs', 'walks', 'away', 'thrusts', 'arms', 'opening', 'shot', 'outside', 'rory', 'sitting', 'obviously', 'bright', 'girl', 'thank', 'good', 'teachers', 'like', 'lot', 'social', 'activities', 'oh', 'living', 'stars', 'hollow', 'kind', 'social', 'activity', 'school', 'appealed', 'work', 'inn', 'school', 'club', 'left', 'want', 'harvard', 'study', 'journalism', 'political', 'way', 'christiane', 'cokie', 'oprah', 'rosie', 'women', 'wish', 'christiane', 'wish', 'want', 'travel', 'world', 'close', 'report', 'going', 'big', 'police', 'high', 'speed', 'chase', 'quicker', 'way', 'achieve', 'tv', 'maybe', 'journalist', 'books', 'articles', 'want', 'sure', 'looks', 'notice', 'debating', 'teams', 'missing', 'stands', 'known', 'grandparents', 'fact', 'party', 'house', 'week', 'delicious', 'lobster', 'puffs', 'fond', 'sits', 'benefit', 'chilton', 'highest', 'academic', 'standards', 'school', 'smartest', 'girl', 'stars', 'hollow', 'different', 'greater', 'rules', 'stricter', 'expectations', 'received', 'finest', 'educations', 'reason', 'achieve', 'starting', 'late', 'highly', 'atmosphere', 'good', 'chance', 'unsure', 'liked', 'lobster', 'james', 'administration', 'office', 'hands', 'folder', 'takes', 'leaves', 'room', 'puts', 'walks', 'administration', 'office', 'goes', 'desk', 'puts', 'hi', 'looking', 'miss', 'james', 'lorelai', 'james', 'james', 'takes', 'folder', 'gives', 'rory', 'sheet', 'miss', 'james', 'folder', 'desk', 'girl', 'desk', 'looks', 'stealthily', 'takes', 'folder', 'gives', 'somebody', 'bushes', 'outside', 'girls', 'ones', 'stared', 'rory', '1', '2', 'shut', '3', '2', 'lorelai', '1', 'nice', 'stripper', '2', 'stars', 'hollow', 'high', '1', '2', 'left', 'haystacks', 'follow', 'perfect', 'grade', 'point', '3', 'bugs', 'dirt', '2', 'journalism', '1', 'means', 'going', 'school', '2', 'got', 'thousand', 'recommendations', '1', 'going', 'school', '2', 'know', 'going', 'catch', 'month', '1', 'tutor', 'like', 'big', '2', '3', 'okay', 'lizard', '2', 'letting', 'extra', 'people', 'screw', 'need', 'new', 'kids', '1', '2', 'says', 'psst', 'window', 'takes', 'office', 'miss', 'james', 'giving', 'stuff', 'james', 'locker', 'number', 'school', 'chilton', 'code', 'words', 'song', 'recited', 'happen', 'anytime', 'latin', 'extra', 'uh', 'james', 'appointment', 'guidance', 'handles', 'bulimia', 'nurse', 'coach', 'welcome', 'walking', 'road', 'diner', 'dry', 'door', 'passes', 'man', 'way', 'smiling', 'longest', 'day', 'life', 'looks', 'like', 'herbal', 'herbal', 'tea', 'coffee', 'morning', 'coffee', 'jumbo', 'coffee', 'need', 'coffee', 'tea', 'balance', 'tell', 'gets', 'coffee', 'want', 'know', 'stuff', 'nervous', 'love', 'maybe', 'happened', 'morning', 'rory', 'started', 'looking', 'dressed', 'rory', 'fancy', 'clothes', 'fuzzy', 'clock', 'purr', 'gotta', 'plan', 'damn', 'time', 'getting', 'stalks', 'luke', 'pulls', 'looks', 'like', 'chicken', 'bone', 'patty', 'standing', 'street', 'lots', 'little', 'girls', 'pink', 'twirling', 'patty', 'visualize', 'thanksgiving', 'day', 'standing', 'fifth', '100', 'beautiful', 'boys', 'marching', 'place', 'fabulous', 'legs', 'perfect', 'baton', 'crowd', 'goes', 'okay', 'cookie', 'sees', 'lorelai', 'walking', 'lorelai', 'hi', 'patty', 'today', 'day', 'oh', 'yeah', 'got', 'dropping', 'patty', 'oh', 'look', 'patty', 'walks', 'jeep', 'gets', 'miss', 'patty', 'walks', 'patty', 'ladies', 'naked', 'leotards', 'pulling', 'gilmore', 'lorelai', 'gets', 'car', 'uncoordinated', 'coffee', 'dry', 'cleaning', 'dropping', 'clothes', 'staggers', 'house', 'goes', 'phone', 'ringing', 'finally', 'finding', 'heap', 'junk', 'falling', 'going', 'shopping', 'afternoon', 'thought', 'pick', 'things', 'like', 'couple', 'extra', 'skirts', 'tops', 'ok', 'took', 'care', 'got', 'skirts', 'bunch', 'days', 'school', 'days', 'week', 'underwear', 'till', 'pull', 'cowboy', 'boots', 'skirts', 'gets', 'wear', 'gets', 'use', 'newfangled', 'thing', 'called', 'washing', 'town', 'bought', 'chilton', 'special', 'logo', 'rory', 'school', 'want', 'sweater', 'vest', 'getting', 'cut', 'rory', 'getting', 'chilton', 'size', 'mom', 'simple', 'question', 'size', 'case', 'grows', 'buy', 'ok', 'gotta', 'classroom', 'teacher', 'pacing', 'french', 'culture', 'dominant', 'outside', 'cultural', 'especially', 'monied', 'class', 'english', 'culture', 'favorite', 'author', 'instance', '2', 'hand', 'yes', 'week', 'discovered', 'main', 'authorial', '2', 'hand', 'george', 'sand', 'looks', 'tolstoy', 'commenced', 'writing', 'count', 'leo', 'turn', '2', 'turn', 'opens', 'cute', 'guy', 'walks', 'ah', 'teacher', 'nice', 'hope', 'feeling', 'better', 'seat', 'walks', 'seat', 'leering', 'openly', 'rory', 'making', 'tale', 'influences', 'leo', 'leans', 'forward', 'talk', 'friend', 'seat', '1', '2', 'new', 'literary', 'masters', 'tolstoy', '1', '2', '3', 'looking', 'notes', 'disdain', 'tries', 'smile', '1', 'looks', 'like', 'got', 'miss', 'uh', 'gilmore', 'come', 'goes', 'study', 'hands', 'huge', 'binder', 'crammed', 'test', 'new', 'makeup', 'test', 'sufficient', 'sure', 'helpful', 'personal', 'tend', 'detailed', 'daunting', 'right', 'leave', 'remember', 'coming', 'room', 'walks', 'girl', '2', 'come', 'know', 'lorelai', 'gilmore', 'stars', 'going', 'nice', 'innocent', 'know', 'going', 'drama', 'franklin', 'school', 'paper', 'going', 'locker', 'gonna', 'editor', 'good', 'away', 'paris', 'steps', 'class', 'intend', 'valedictorian', 'going', 'catch', 'beat', 'school', 'domain', 'franklin', 'forget', 'walks', 'guess', 'going', 'let', 'borrow', 'notes', 'scene', 'outside', 'independence', 'switches', 'kitchen', 'sookie', 'smelling', 'peaches', 'fruit', 'man', 'looking', 'smaller', 'man', 'smaller', 'means', 'good', 'peach', 'man', 'plenty', 'peach', 'taste', 'know', 'ones', 'man', 'oh', 'sure', 'check', 'nice', 'good', 'actually', 'want', 'sell', 'somebody', 'wait', 'minute', 'missed', 'going', 'tell', 'going', 'let', 'impeccably', 'picks', 'got', 'walks', 'okay', 'look', 'great', 'supposed', 'good', 'morning', 'jackson', 'supposed', 'look', 'fabulous', 'like', 'night', 'cares', 'everybody', 'moms', 'headmaster', 'mom', 'luke', 'miss', 'patty', 'new', 'tiny', 'taste', 'little', 'planned', 'walked', 'office', 'knew', 'wake', 'late', 'humiliate', 'wow', 'takes', 'peach', 'rolls', 'oh', 'love', 'know', 'rolling', 'differently', 'extra', 'makes', 'perfect', 'ignore', 'women', 'cause', 'thing', 'matters', 'rory', 'got', 'great', 'looked', 'amazing', 'admire', 'jumping', 'new', 'oh', 'sign', 'sookie', 'peaches', 'walks', 'excuse', 'phone', 'like', 'dog', 'like', 'cookie', 'thanks', 'peach', 'jackson', 'sookie', 'takes', 'lorelai', 'walks', 'inn', 'old', 'women', 'looking', 'book', 'walking', 'lorelai', 'walks', 'michel', '1', 'absolutely', 'supposed', 'shops', 'oh', 'excuse', 'sir', 'tell', 'best', 'house', 'women', 'mom', 'remember', 'giving', 'yeah', 'losing', 'uh', 'sorry', 'mom', 'um', 'drella', 'harp', 'player', 'playing', 'loud', 'ignores', 'okay', 'wanted', 'known', 'bought', 'parking', 'space', 'hard', 'come', 'pulled', 'strings', 'mom', 'rory', 'got', 'birthday', 'coming', 'playing', 'loudly', 'lorelai', 'okay', 'hold', 'um', 'little', 'softer', 'hey', 'look', 'like', 'got', 'panasonic', 'stamped', 'mom', 'buying', 'rory', 'smart', 'girl', 'need', 'way', 'taking', 'hate', 'taking', 'drug', 'dealers', 'know', 'gotta', 'discuss', 'later', 'plays', 'softer', 'lorelai', 'walking', 'chilton', 'hallway', 'guy', '1', 'comes', '1', 'hey', '1', 'yeah', '1', 'yeah', 'class', 'yeah', 'loan', 'notes', 'walking', 'forward', 'pushing', 'remmy', 'said', 'getting', 'notes', 'help', 'uh', 'kind', 'view', 'studying', 'solitary', 'bye', 'walks', 'parlor', 'drella', 'playing', 'harp', 'people', 'listening', 'talking', 'man', 'teenage', 'completely', 'oh', 'boy', 'tries', 'brings', 'car', 'backed', 'car', 'know', 'car', 'scratched', 'parked', 'calm', 'sir', 'car', 'looked', 'way', 'resolve', 'meantime', 'love', 'lunch', 'dessert', 'homemade', 'ice', 'cream', 'life', 'know', 'think', 'thank', 'thank', 'walks', 'lorelai', 'swear', 'scratch', 'thought', 'bad', 'oh', 'sure', 'guys', 'look', 'sure', 'buff', 'real', 'nice', 'outfit', 'wearing', 'thank', 'walks', 'michel', 'walks', 'faithful', 'pooch', 'needs', 'talk', 'mother', 'looks', 'standing', 'counter', 'ian', 'jack', 'bad', 'meet', 'associate', 'lunch', 'coming', 'york', 'thought', 'meet', 'beautiful', 'enjoy', 'wondering', 'maybe', 'little', 'company', 'food', 'interests', 'finding', 'hard', 'mean', 'chilton', 'ooh', 'sounds', 'know', 'rory', 'started', 'think', 'let', 'fall', 'bad', 'crowd', 'start', 'hooking', 'date', 'casual', 'walks', 'okay', 'tell', 'going', 'china', 'week', 'going', 'try', 'rome', 'china', 'picks', 'card', 'desk', 'puts', 'lorelai', 'general', 'manager', 'talk', 'safe', 'walk', 'making', 'aw', 'try', 'watch', 'walk', 'away', 'stop', 'walks', 'little', 'think', 'mean', 'walks', 'listening', 'drella', 'play', 'harp', 'suddenly', 'people', 'look', 'chilton', 'finds', 'locker', 'tries', 'open', 'stuck', 'hard', 'opens', 'stumble', 'backward', 'right', 'paris', 'big', 'project', 'intricate', 'castle', 'dropped', 'got', 'project', 'broke', 'million', 'oh', 'paris', 'locker', 'pulled', 'mean', 'away', 'stalks', 'picks', 'books', 'puts', 'locker', 'taps', 'boy', 'excuse', 'need', 'ness', 'classroom', 'paris', 'walked', 'course', 'locker', 'walks', 'oh', 'got', 'kidding', 'sits', 'seat', 'tristin', 'sits', 'right', 'near', 'hey', 'ok', 'left', 'projects', 'friday', 'today', 'pick', 'miss', 'miss', 'sufficient', 'time', 'complete', 'yes', 'receive', 'incomplete', 'rory', 'wrecked', 'shut', 'rory', 'lorelai', 'rory', 'lorelai', 'wrecked', 'locked', 'got', 'stay', 'rory', 'need', 'pick', 'thank', 'rory', 'wrecked', 'project', 'locked', 'got', 'stop', 'miss', 'gilmore', 'wrecked', 'miss', 'project', 'help', 'fix', 'want', 'mind', 'stay', 'trying', 'help', 'ladies', 'miss', 'geller', 'want', 'miss', 'help', 'receive', 'long', 'standing', 'class', 'new', 'hello', 'rory', 'hi', 'hello', 'sits', 'scene', 'welcome', 'stars', 'hollow', 'sign', 'population', '9', 'scene', 'miss', 'patty', 'street', 'girls', 'studio', 'walking', 'books', 'patty', 'walk', 'new', 'harry', 'potter', 'drop', 'harry', 'die', 'anymore', 'lorelai', 'dressed', 'morning', 'ignores', 'scene', 'shifts', 'lorelai', 'walking', 'luke', 'walking', 'near', 'entrance', 'squeeze', 'voted', 'personality', 'new', 'mean', 'usually', 'come', 'pick', 'rory', 'pours', 'coffee', 'thank', 'blood', 'eat', 'apple', 'god', 'hectic', 'bizarro', 'day', 'morning', 'mother', 'father', 'drove', 'way', 'ask', 'appear', 'like', 'got', 'kid', 'school', 'thing', 'yeah', 'think', 'good', 'turned', 'mean', 'probably', 'old', 'mean', 'got', 'kid', 'high', 'yeah', 'young', 'people', 'people', 'like', 'guy', 'asked', 'kind', 'smiles', 'bit', 'thinks', 'likes', 'cell', 'phone', 'rings', 'sign', 'says', 'cell', 'oh', 'hi', 'right', 'uh', 'gave', 'frowns', 'walks', 'man', 'woman', 'holding', 'cat', 'sitting', 'live', 'right', 'jeep', 'pulls', 'gets', 'oh', 'lorelai', 'sorry', 'like', 'okay', 'appreciate', 'sudden', 'pull', 'truck', 'start', 'let', 'talk', 'pets', 'cat', 'man', 'gets', 'stands', 'tell', 'kicked', 'right', 'gnome', 'fine', 'trust', 'gnome', 'kicking', 'lot', 'yes', 'gonna', 'care', 'walks', 'house', 'men', 'porch', 'goes', 'steps', 'um', '1', 'live', '1', 'supposed', 'install', 'dsl', 'lorelai', 'yes', '1', 'nice', 'meet', 'told', 'look', 'ceramic', 'frog', 'key', 'order', 'order', 'placed', 'emily', 'gilmore', 'frog', 'search', 'way', '2', 'hey', 'mick', '2', 'frog', 'says', 'trust', 'going', 'cancel', 'dsl', 'paid', 'yeah', 'need', 'dsl', 'thanks', 'coming', 'guys', 'guys', 'leave', 'lorelai', 'walks', 'oh', 'shakespeare', 'turn', 'good', 'gets', 'piece', 'paper', 'says', 'let', 'help', 'handwriting', 'romanists', 'great', 'adroitness', 'drawn', 'walls', 'hitherto', 'protected', 'reform', 'christians', 'fallen', 'said', 'gave', 'note', 'paris', 'immediately', 'crumpled', 'threw', 'paris', 'martin', 'good', 'miss', 'year', 'martin', 'luther', 'address', 'christian', 'sees', 'paris', 'lean', 'good', 'miss', 'time', 'goes', 'stay', 'school', 'living', 'hell', 'swallows', 'tomorrow', 'shows', 'street', 'corner', 'switches', 'inside', 'salon', 'appears', 'searching', 'help', 'past', 'god', 'buying', 'lorelai', 'hardly', 'canceled', 'order', 'rory', 'needs', 'internet', 'like', 'internet', 'slow', 'turn', 'walk', 'dsl', 'dancing', 'walking', 'work', 'seen', 'earth', 'talking', 'cars', 'parking', 'uniforms', 'supplied', 'stubborn', 'mom', 'person', 'work', 'problems', 'care', 'florence', 'appreciate', 'rory', 'paying', 'school', 'let', 'decide', 'live', 'validate', 'parking', 'stamp', 'thank', 'looks', 'embarrassed', 'lorelai', 'walks', 'outside', 'lorelai', 'drinking', 'coffee', 'waiting', 'rory', 'come', 'rory', 'hey', 'backpack', 'hugs', 'day', 'sucked', 'swear', 'want', 'stop', 'hugging', 'brought', 'triple', 'caps', 'easy', 'work', 'stick', 'fingers', 'light', 'picks', 'come', 'expect', 'smart', 'oh', 'expect', 'lot', 'tell', 'big', 'long', 'scary', 'tweedy', 'bad', 'add', 'hair', 'spray', 'got', 'girls', 'hates', 'guys', 'weirder', 'yeah', 'kept', 'calling', 'kidding', 'wow', 'believe', 'means', 'like', 'virgin', 'means', 'think', 'look', 'like', 'called', 'thought', 'looked', 'like', 'added', 'magdalene', 'biblical', 'advanced', 'laugh', 'lorelai', 'turns', 'night', 'town', 'lit', 'lights', 'lorelai', 'rory', 'lane', 'walking', 'food', 'weird', 'having', 'school', 'mean', 'finally', 'let', 'sad', 'yeah', 'add', 'couple', 'plaid', 'skirts', 'got', 'chilton', 'totally', 'miss', 'miss', 'tuesdays', 'thursdays', 'business', 'class', 'lane', 'comes', 'guys', 'shop', 'study', 'join', 'cult', 'shave', 'shaving', 'heads', 'oh', 'time', 'oh', 'late', 'lane', 'mother', 'gonna', 'kill', 'sending', 'home', 'fat', 'web', 'site', 'sells', 'tofu', 'oh', 'kidding', 'yesterday', 'went', 'bought', 'bigger', 'pink', 'jacket', 'handing', 'rory', 'shaking', 'boy', 'honey', 'life', 'rory', 'pizza', 'pizza', 'wish', 'figure', 'way', 'paris', 'yeah', 'angry', 'chicks', 'high', 'school', 'rid', 'got', 'pregnant', 'dropped', 'learn', 'french', 'braid', 'sweetie', 'let', 'kids', 'want', 'talk', 'parent', 'teacher', 'big', 'guy', 'named', 'figure', 'rory', 'thinking', 'way', 'face', 'looked', 'beat', 'martin', 'luther', 'good', '14', 'shades', 'tomorrow', 'shooting', 'stop', 'hey', 'think', 'mean', 'think', 'oh', 'date', 'said', 'dating', 'date', 'break', 'able', 'eat', 'repeat', 'said', 'dating', 'date', 'al', 'pancake', 'world', 'food', 'believe', 'food', 'stink', 'al', 'comes', 'diner', 'stares', 'closes', 'restaurant', 'goes', 'end', 'day', 'chilton', 'summary', 'day', 'chilton', 'screencaps', 'episode', 'guide']\n"
     ]
    }
   ],
   "source": [
    "print(getWordsFromPage(2))"
   ]
  },
  {
   "cell_type": "code",
   "execution_count": null,
   "id": "d3cf9fc8",
   "metadata": {},
   "outputs": [],
   "source": []
  },
  {
   "cell_type": "code",
   "execution_count": null,
   "id": "7457b6c0",
   "metadata": {},
   "outputs": [],
   "source": []
  },
  {
   "cell_type": "code",
   "execution_count": null,
   "id": "c6eb512c",
   "metadata": {},
   "outputs": [],
   "source": []
  }
 ],
 "metadata": {
  "kernelspec": {
   "display_name": "Python 3 (ipykernel)",
   "language": "python",
   "name": "python3"
  },
  "language_info": {
   "codemirror_mode": {
    "name": "ipython",
    "version": 3
   },
   "file_extension": ".py",
   "mimetype": "text/x-python",
   "name": "python",
   "nbconvert_exporter": "python",
   "pygments_lexer": "ipython3",
   "version": "3.8.12"
  },
  "toc": {
   "base_numbering": 1,
   "nav_menu": {},
   "number_sections": true,
   "sideBar": true,
   "skip_h1_title": false,
   "title_cell": "Table of Contents",
   "title_sidebar": "Contents",
   "toc_cell": false,
   "toc_position": {},
   "toc_section_display": true,
   "toc_window_display": false
  }
 },
 "nbformat": 4,
 "nbformat_minor": 5
}
