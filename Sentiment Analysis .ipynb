{
 "cells": [
  {
   "cell_type": "code",
   "execution_count": 12,
   "id": "629376e8",
   "metadata": {},
   "outputs": [],
   "source": [
    "import nltk\n",
    "from nltk.tokenize import sent_tokenize, word_tokenize\n",
    "from nltk.corpus import stopwords"
   ]
  },
  {
   "cell_type": "code",
   "execution_count": 10,
   "id": "1a132f23",
   "metadata": {},
   "outputs": [
    {
     "name": "stdout",
     "output_type": "stream",
     "text": [
      "{'does', 'the', 'me', 'this', \"wasn't\", 'itself', 'hers', 'in', 'just', 'has', 'once', 'yourself', 'below', 'ours', 'who', 'is', 'a', 'ourselves', 'do', 'mightn', \"isn't\", 'o', \"you're\", 'themselves', 's', 'didn', 'be', 'why', 'did', 'up', 'most', 'he', \"mustn't\", 'to', 're', 'over', 'if', 'each', 'wouldn', 'those', 'y', 'whom', 'couldn', 'because', 'above', 'will', 'that', 'ain', 'they', 'again', 'being', 'myself', 'off', 'it', 'their', 'what', 'hasn', 'mustn', \"won't\", 'are', 'ma', \"it's\", 'at', 'further', 'your', 'by', \"shan't\", 'after', \"you'll\", 'there', 'him', \"haven't\", 'shouldn', 'theirs', 'himself', 'my', \"hasn't\", 'here', 'can', 'we', \"you've\", 'few', 'was', \"wouldn't\", 'don', 'more', 'won', 'now', 'very', 'for', 'during', 'i', 'weren', 'how', 'which', 'such', 'or', \"doesn't\", 'any', 'having', \"that'll\", 'from', 'all', 'under', 'our', 't', 'out', \"needn't\", 'as', \"hadn't\", 'll', 'them', 'down', 'she', 'until', 'too', 'where', 'through', 'and', 've', 'you', 'no', \"aren't\", 'before', 'his', 'had', 'not', 'with', 'haven', 'her', 'other', 'than', \"couldn't\", 'into', 'while', 'only', 'm', 'same', 'then', 'wasn', 'should', 'between', \"she's\", 'yours', 'have', 'been', 'on', 'when', 'hadn', 'isn', 'both', 'were', \"you'd\", \"weren't\", 'against', \"shouldn't\", 'nor', 'd', 'herself', \"should've\", \"mightn't\", 'but', 'doesn', 'some', \"didn't\", 'of', 'aren', \"don't\", 'yourselves', 'its', 'am', 'own', 'doing', 'about', 'so', 'an', 'needn', 'shan', 'these'}\n"
     ]
    }
   ],
   "source": [
    "stops = set(stopwords.words('english'))\n",
    "print(stops)"
   ]
  },
  {
   "cell_type": "markdown",
   "id": "ee4f4491",
   "metadata": {},
   "source": [
    "nltk allows to tokenize the  text and remove certain stop words"
   ]
  },
  {
   "cell_type": "code",
   "execution_count": 3,
   "id": "c76f62a5",
   "metadata": {},
   "outputs": [],
   "source": [
    "from bs4 import BeautifulSoup"
   ]
  },
  {
   "cell_type": "markdown",
   "id": "a68083d2",
   "metadata": {},
   "source": [
    "beautiful soup allows to easily scrape text from given url"
   ]
  },
  {
   "cell_type": "code",
   "execution_count": 4,
   "id": "913d0066",
   "metadata": {},
   "outputs": [],
   "source": [
    "import requests"
   ]
  },
  {
   "cell_type": "markdown",
   "id": "5a37d32f",
   "metadata": {},
   "source": [
    "requests allows to get the url where desired text is located"
   ]
  },
  {
   "cell_type": "code",
   "execution_count": null,
   "id": "da58283e",
   "metadata": {},
   "outputs": [],
   "source": [
    "#import seaborn as sns\n",
    "#import re"
   ]
  },
  {
   "cell_type": "code",
   "execution_count": 13,
   "id": "b1264659",
   "metadata": {},
   "outputs": [],
   "source": [
    "def getWordsFromPage(pageNumber):\n",
    "    url = 'https://www.gilmoregirls.org/eguide/transcripts/episode{pageNumber}.html'\n",
    "    url = url.format(pageNumber=pageNumber)\n",
    "\n",
    "    response = requests.get(url)\n",
    "    soup = BeautifulSoup(response.text, 'html.parser')\n",
    "    data = ''\n",
    "    for data in soup.find_all('body'):\n",
    "        script = data.get_text()    \n",
    "        get_words = word_tokenize(script)\n",
    "        lower_words = [x.lower() for x in get_words]\n",
    "        \n",
    "        new_words = ' '.join(ch for ch in lower_words if ch.isalnum())\n",
    "        \n",
    "        data = new_words\n",
    "        stopwords = nltk.corpus.stopwords.words('english')\n",
    "        GGStops = [\"oh\", \"rory\", \"lorelai\", \"ah\", \"ooh\", \"l\", \"r\", \"emily\", \"max\", \n",
    "                \"luke\", \"lane\", \"richard\", \"know\", \"well\", \"really\", \"okay\", \"sookie\", \n",
    "                \"would\", \"like\", \"dean\", \"go\", \"paris\", \"louise\", \"jackson\", \"yes\", \"yeah\", \n",
    "                   \"louise\", \"madeline\", \"tristan\", \"jess\", \"ok\", \"going\", \"okay\", \"get\", \"got\",\n",
    "                  \"think\", \"bye\", \"hi\", \"uh\", \"somthing\", \"gon\", \"na\", \"tell\", \"one\"]\n",
    "        stopwords.extend(GGStops)\n",
    "        words = word_tokenize(data)\n",
    "        wordsFiltered = []\n",
    "\n",
    "        for w in words:\n",
    "            if w not in stopwords:\n",
    "                wordsFiltered.append(w)\n",
    "                    \n",
    "        return(wordsFiltered)\n"
   ]
  },
  {
   "cell_type": "code",
   "execution_count": 14,
   "id": "e6fa48ac",
   "metadata": {},
   "outputs": [
    {
     "name": "stdout",
     "output_type": "stream",
     "text": [
      "['site', 'navigation', 'main', 'cast', 'characters', 'episode', 'guide', 'recent', 'news', 'show', 'spoilers', 'images', 'photos', 'weekly', 'ratings', 'featured', 'music', 'message', 'board', 'chat', 'room', 'fan', 'extras', 'show', 'fashion', 'fun', 'games', 'mailing', 'list', 'gilmore', 'girls', 'faqs', 'related', 'links', 'link', 'site', 'site', 'info', 'contact', 'affiliates', 'charmed', 'ones', 'gilmore', 'wallpaper', 'lauren', 'online', 'transcript', 'lorelais', 'first', 'day', 'chilton', 'written', 'amy', 'directed', 'arlene', 'sanford', 'sitting', 'couch', 'porch', 'front', 'house', 'painting', 'toenails', 'red', 'squirts', 'whipped', 'cream', 'mouth', 'sarcastically', 'nice', 'thank', 'move', 'please', 'insisting', 'starting', 'private', 'school', 'tomorrow', 'wearing', 'shoes', 'nobody', 'see', 'feet', 'everybody', 'knows', 'private', 'school', 'girls', 'bad', 'bad', 'girls', 'always', 'wear', 'red', 'nail', 'polish', 'lull', 'conversation', 'nervous', 'starting', 'chilton', 'heard', 'bad', 'girls', 'laugh', 'kim', 'friend', 'runs', 'guys', 'xtc', 'apple', 'venus', 'volume', '2', 'run', 'house', 'finished', 'half', 'toes', 'cares', 'wearing', 'shoes', 'anyway', 'rolls', 'eyes', 'goes', 'house', 'opening', 'sequence', 'starts', 'commercials', 'shows', 'opening', 'shot', 'house', 'sleeping', 'dressed', 'chilton', 'clothes', 'opens', 'door', 'mom', 'bedroom', 'mom', 'gasps', 'god', 'whiny', 'tone', 'heart', 'attack', 'thought', 'grabs', 'pillow', 'stop', 'quarter', 'six', 'grabs', 'back', 'pillow', 'set', 'clock', 'quarter', 'six', 'grabs', 'clock', 'shows', 'time', 'jumps', 'bed', 'stumbles', 'around', 'disoriented', 'slams', 'clock', 'ca', 'late', 'first', 'day', 'school', 'happens', 'people', 'late', 'first', 'day', 'rummaging', 'franticly', 'dresser', 'clothes', 'shorter', 'labeled', 'late', 'girl', 'ohh', 'dramatic', 'bathroom', 'takes', 'shoulders', 'steers', 'door', 'traffic', 'mom', 'runs', 'bathroom', 'shuts', 'door', 'planned', 'early', 'coffee', 'take', 'shower', 'pick', 'clothes', 'dry', 'cleaners', 'opens', 'door', 'sighs', 'god', 'clothes', 'walks', 'hall', 'trailing', 'clean', 'clothes', 'nice', 'things', 'dirty', 'look', 'closet', 'turns', 'away', 'wear', 'blue', 'suit', 'flippy', 'skirt', 'look', 'great', 'flippy', 'skirt', 'time', 'lady', 'downstairs', 'warm', 'car', 'super', 'thank', 'hurry', 'goes', 'downstairs', 'rummages', 'drawer', 'sucks', 'sucks', 'calls', 'love', 'god', 'sighs', 'sits', 'bed', 'puts', 'socks', 'last', 'time', 'ever', 'buy', 'anything', 'furry', 'talking', 'clock', 'scene', 'changes', 'running', 'steps', 'cowboy', 'boots', 'short', 'frayed', 'shorts', 'bright', 'pink', 'tight', 'hurriedly', 'putting', 'hair', 'messy', 'ponytail', 'standing', 'foot', 'stairs', 'looks', '7', 'even', 'finishing', 'sentence', 'sighs', 'nothing', 'rodeo', 'town', 'right', 'grabs', 'picture', 'frame', 'bringing', 'baby', 'pictures', 'runs', 'door', 'pursuit', 'sorry', 'love', 'rodeo', 'rodeo', 'rules', 'scene', 'changes', 'camera', 'pans', 'town', 'finally', 'settling', 'jeep', 'stars', 'hollow', 'sign', 'done', 'plans', 'never', 'ever', 'making', 'never', 'works', 'spend', 'day', 'obsessing', 'work', 'could', 'done', 'differently', 'scene', 'changes', 'inside', 'jeep', 'driving', 'sitting', 'passenger', 'seat', 'analyzing', 'shortcomings', 'need', 'vowing', 'never', 'ever', 'make', 'plan', 'ever', 'innocent', 'victim', 'stupid', 'plans', 'past', 'old', 'school', 'looks', 'kids', 'fun', 'god', 'need', 'coffee', 'sighs', 'screen', 'shows', 'jeep', 'driving', 'several', 'different', 'roads', 'road', 'sign', 'says', 'hartford', '14', 'miles', 'screen', 'switches', 'show', 'different', 'gargoyles', 'outside', 'chilton', 'sit', 'jeep', 'peering', 'chilton', 'remember', 'smaller', 'looks', 'worried', 'less', 'looks', 'intimidated', 'heads', 'tilts', 'head', 'peering', 'glancing', 'mom', 'looking', 'trying', 'see', 'hunchback', 'bell', 'tower', 'look', 'sighs', 'sits', 'back', 'beams', 'motherly', 'pride', 'look', 'great', 'skeptical', 'amazing', 'kid', 'earned', 'show', 'smart', 'love', 'call', 'need', 'reaches', 'gear', 'looks', 'worried', 'kidding', 'right', 'call', 'need', 'anything', 'great', 'making', 'dirty', 'cheers', 'come', 'looks', 'clothes', 'meaningfully', 'meet', 'headmaster', 'look', 'ca', 'meet', 'anyone', 'anything', 'look', 'chick', 'hazzard', 'first', 'day', 'getting', 'jeep', 'two', 'moms', 'walking', 'stare', 'drops', 'coat', 'scurry', 'away', 'good', 'morning', 'best', 'friends', 'puts', 'coat', 'walk', 'chilton', 'courtyard', 'looks', 'paper', 'hand', 'ambroise', 'building', 'big', 'scary', 'great', 'thanks', 'input', 'man', 'walking', 'looks', 'especially', 'interest', 'look', 'around', 'slightly', 'bewildered', 'man', 'lost', 'looking', 'headmaster', 'office', 'ambroise', 'building', 'man', 'right', 'points', 'beside', 'stairs', 'make', 'left', 'headmaster', 'office', 'end', 'hall', 'great', 'thank', 'man', 'welcome', 'grabs', 'arm', 'man', 'extends', 'hand', 'man', 'ian', 'jack', 'daughter', 'julia', 'goes', 'school', 'shake', 'hands', 'gilmore', 'daughter', 'looks', 'slightly', 'uncomfortable', 'ian', 'daughter', 'surprised', 'wow', 'great', 'mean', 'daughters', 'great', 'thing', 'big', 'fans', 'flirting', 'ian', 'laughing', 'husband', 'love', 'meet', 'um', 'married', 'love', 'meet', 'wife', 'though', 'ian', 'divorced', 'shame', 'excuse', 'grabs', 'arm', 'right', 'ta', 'meet', 'big', 'guy', 'ta', 'back', 'work', 'rush', 'ian', 'calls', 'work', 'rushes', 'back', 'inn', 'independence', 'inn', 'run', 'ian', 'different', 'outfit', 'course', 'ian', 'ha', 'nice', 'meet', 'good', 'luck', 'school', 'julia', 'look', 'great', 'thanks', 'ian', 'see', 'waves', 'little', 'smiles', 'mouths', 'nice', 'nice', 'man', 'feeling', 'pretty', 'good', 'right', 'still', 'smiling', 'want', 'mirror', 'back', 'let', 'smile', 'gone', 'rush', 'scene', 'changes', 'walking', 'stairs', 'chilton', 'look', 'around', 'good', 'big', 'stuff', 'sarcastically', 'turn', 'left', 'walk', 'screen', 'camera', 'three', 'sour', 'looking', 'girls', 'staring', 'roll', 'eyes', 'look', 'expressively', 'another', 'continue', 'way', 'screen', 'changes', 'walking', 'hallway', 'almost', 'headmaster', 'office', 'look', 'surroundings', 'apprehension', 'door', 'stand', 'front', 'staring', 'ready', 'ready', 'open', 'doors', 'step', 'room', 'contains', 'desk', 'strict', 'looking', 'woman', 'wearing', 'library', 'glasses', 'sitting', 'stop', 'front', 'clears', 'throat', 'um', 'excuse', 'secretary', 'looks', 'suddenly', 'jumps', 'back', 'slightly', 'wow', 'gilmore', 'daughter', 'gilmore', 'named', 'hospital', 'whacked', 'demerol', 'glances', 'realizes', 'rambling', 'never', 'mind', 'call', 'short', 'even', 'depending', 'nudges', 'headmaster', 'secretary', 'gets', 'removes', 'glasses', 'moment', 'walks', 'briskly', 'away', 'gilmores', 'watch', 'closes', 'door', 'whispering', 'see', 'happens', 'bed', 'makeup', 'grins', 'sighs', 'door', 'opens', 'behind', 'secretary', 'stands', 'stiffly', 'announcing', 'guest', 'secretary', 'headmaster', 'charleston', 'see', 'clears', 'throat', 'great', 'thanks', 'walk', 'room', 'secretary', 'shuts', 'door', 'headmaster', 'extending', 'hand', 'gilmore', 'headmaster', 'charleston', 'wow', 'nice', 'meet', 'looks', 'around', 'looks', 'corner', 'sees', 'mother', 'couch', 'mom', 'ex', 'grandmother', 'sweeps', 'past', 'came', 'wish', 'granddaughter', 'luck', 'first', 'day', 'school', 'looks', 'exasperated', 'look', 'wonderful', 'uniform', 'come', 'way', 'mom', 'grandmother', 'gave', 'chance', 'make', 'sure', 'hanlin', 'takes', 'good', 'care', 'gestures', 'headmaster', 'hanlin', 'headmaster', 'hanlin', 'charleston', 'grandmother', 'hanlin', 'wife', 'symphony', 'fundraising', 'committee', 'together', 'wow', 'great', 'headmaster', 'father', 'golf', 'rivals', 'still', 'fighting', 'see', 'worse', 'grandmother', 'old', 'friends', 'nothing', 'friends', 'especially', 'old', 'everyone', 'looks', 'tad', 'oddly', 'around', 'remark', 'headmaster', 'take', 'coat', 'seat', 'looks', 'frightened', 'fine', 'headmaster', 'afraid', 'little', 'overzealous', 'furnace', 'morning', 'quite', 'warm', 'warm', 'nodding', 'head', 'idiot', 'grandmother', 'take', 'coat', 'sit', 'want', 'hanlin', 'rude', 'commanding', 'tone', 'voice', 'looking', 'extremely', 'uncomfortable', 'embarrassed', 'takes', 'coat', 'everyone', 'stares', 'grandmother', 'rolls', 'eyes', 'exhales', 'loudly', 'laundry', 'day', 'grandmother', 'hanlin', 'grade', 'point', 'average', 'sure', 'mom', 'grandmother', 'special', 'girl', 'take', 'good', 'care', 'headmaster', 'best', 'everyone', 'sits', 'problem', 'totally', 'low', 'maintenance', 'honda', 'easy', 'looks', 'embarrassed', 'nice', 'office', 'grandmother', 'take', 'anymore', 'precious', 'time', 'lovely', 'see', 'give', 'bitty', 'love', 'kisses', 'cheeks', 'headmaster', 'headmaster', 'see', 'club', 'sunday', 'grandmother', 'wonderful', 'day', 'want', 'hear', 'need', 'ride', 'horse', 'parked', 'outside', 'walks', 'room', 'nice', 'meet', 'shakes', 'hands', 'headmaster', 'kisses', 'forehead', 'great', 'day', 'headmaster', 'want', 'forget', 'coat', 'turns', 'embarrassing', 'laughs', 'walks', 'office', 'scene', 'changes', 'grandmother', 'walking', 'hall', 'grandmother', 'leave', 'house', 'looking', 'kind', 'impression', 'make', 'sighs', 'mother', 'grandmother', 'told', 'came', 'put', 'good', 'word', 'need', 'good', 'word', 'grandmother', 'allowed', 'say', 'grandmother', 'allowed', 'pay', 'ca', 'actually', 'set', 'foot', 'premises', 'want', 'rules', 'straight', 'street', 'drive', 'street', 'maybe', 'avoid', 'neighborhood', 'altogether', 'although', 'doctor', 'right', 'block', 'maybe', 'special', 'permission', 'bleeding', 'looking', 'incredibly', 'annoyed', 'patience', 'wearing', 'thin', 'sorry', 'surprised', 'see', 'grandmother', 'thought', 'important', 'school', 'gilmore', 'amongst', 'good', 'thought', 'grandmother', 'gilmores', 'actually', 'clothing', 'note', 'work', 'see', 'later', 'grandmother', 'dinner', 'friday', 'night', 'spurs', 'please', 'walks', 'away', 'thrusts', 'arms', 'annoyance', 'commercials', 'shows', 'opening', 'shot', 'outside', 'chilton', 'headmaster', 'sitting', 'office', 'headmaster', 'obviously', 'bright', 'girl', 'miss', 'gilmore', 'thank', 'headmaster', 'good', 'grades', 'teachers', 'lot', 'social', 'activities', 'though', 'living', 'stars', 'hollow', 'kind', 'social', 'activity', 'actually', 'headmaster', 'nothing', 'school', 'appealed', 'work', 'mother', 'inn', 'school', 'sometimes', 'german', 'club', 'three', 'us', 'two', 'left', 'seeing', 'schindler', 'list', 'headmaster', 'aspirations', 'want', 'harvard', 'study', 'journalism', 'political', 'science', 'headmaster', 'way', 'christiane', 'amanpour', 'headmaster', 'headmaster', 'cokie', 'roberts', 'headmaster', 'oprah', 'rosie', 'women', 'view', 'headmaster', 'wish', 'christiane', 'amanpour', 'wish', 'exactly', 'want', 'headmaster', 'travel', 'see', 'world', 'close', 'report', 'part', 'something', 'big', 'headmaster', 'part', 'something', 'big', 'tv', 'lead', 'police', 'high', 'speed', 'chase', 'quicker', 'way', 'achieve', 'goal', 'tv', 'nothing', 'maybe', 'journalist', 'write', 'books', 'articles', 'see', 'want', 'sure', 'see', 'something', 'headmaster', 'looks', 'papers', 'notice', 'debating', 'teams', 'also', 'missing', 'resume', 'headmaster', 'nods', 'stands', 'known', 'grandparents', 'quite', 'time', 'headmaster', 'fact', 'party', 'house', 'last', 'week', 'delicious', 'lobster', 'puffs', 'ever', 'eaten', 'fond', 'nice', 'headmaster', 'sits', 'across', 'headmaster', 'none', 'however', 'benefit', 'chilton', 'highest', 'academic', 'standards', 'school', 'america', 'may', 'smartest', 'girl', 'stars', 'hollow', 'different', 'place', 'pressures', 'greater', 'rules', 'stricter', 'expectations', 'high', 'make', 'received', 'finest', 'educations', 'reason', 'achieve', 'goals', 'however', 'since', 'starting', 'late', 'used', 'highly', 'competitive', 'atmosphere', 'good', 'chance', 'fail', 'fine', 'failure', 'part', 'life', 'part', 'chilton', 'understand', 'looking', 'unsure', 'liked', 'lobster', 'puffs', 'huh', 'headmaster', 'take', 'miss', 'james', 'administration', 'office', 'across', 'hall', 'hands', 'folder', 'takes', 'leaves', 'room', 'puts', 'glasses', 'scene', 'changes', 'walks', 'administration', 'office', 'goes', 'desk', 'puts', 'folder', 'looking', 'miss', 'james', 'miss', 'james', 'name', 'gilmore', 'miss', 'james', 'fill', 'please', 'miss', 'james', 'takes', 'folder', 'gives', 'sheet', 'pencil', 'miss', 'james', 'puts', 'folder', 'desk', 'side', 'girl', 'desk', 'looks', 'around', 'stealthily', 'takes', 'folder', 'gives', 'somebody', 'window', 'scene', 'changes', 'bushes', 'outside', 'window', 'three', 'girls', 'ones', 'stared', 'stairs', 'girl', '1', 'girl', '2', 'shut', 'girl', '3', 'hurry', 'please', 'spiders', 'girl', '2', 'gilmore', 'girl', '1', 'nice', 'stripper', 'name', 'girl', '2', 'formerly', 'stars', 'hollow', 'high', 'school', 'girl', '1', 'girl', '2', 'make', 'left', 'haystacks', 'follow', 'cows', 'perfect', 'attendance', 'grade', 'point', 'average', 'girl', '3', 'bugs', 'dirt', 'twigs', 'girl', '2', 'journalism', 'major', 'girl', '1', 'means', 'school', 'paper', 'girl', '2', 'necessarily', 'thousand', 'recommendations', 'popular', 'adults', 'girl', '1', 'school', 'paper', 'girl', '2', 'paper', 'never', 'catch', 'month', 'behind', 'girl', '1', 'tutor', 'big', 'sister', 'girl', '2', 'funny', 'girl', '3', 'lizard', 'goodbye', 'girl', '2', 'letting', 'extra', 'people', 'take', 'space', 'screw', 'curve', 'need', 'new', 'kids', 'girl', '1', 'late', 'girl', '2', 'says', 'psst', 'window', 'someone', 'takes', 'folder', 'scene', 'changes', 'back', 'office', 'miss', 'james', 'giving', 'stuff', 'miss', 'james', 'locker', 'number', 'schedule', 'rules', 'school', 'chilton', 'code', 'honor', 'words', 'school', 'song', 'must', 'recited', 'upon', 'demand', 'happen', 'anytime', 'anyplace', 'latin', 'extra', 'credit', 'questions', 'moment', 'miss', 'james', 'make', 'appointment', 'guidance', 'counselor', 'winters', 'handles', 'everything', 'bulimia', 'pregnancy', 'nurse', 'coach', 'rubens', 'welcome', 'chilton', 'scene', 'changes', 'walking', 'road', 'diner', 'dry', 'cleaning', 'goes', 'door', 'passes', 'man', 'way', 'smiling', 'sighs', 'already', 'longest', 'day', 'life', 'ten', 'fixing', 'looks', 'toaster', 'coffee', 'funny', 'give', 'herbal', 'tea', 'herbal', 'tea', 'morning', 'coffee', 'morning', 'every', 'morning', 'coffee', 'morning', 'jumbo', 'coffee', 'morning', 'need', 'coffee', 'iv', 'give', 'tea', 'balance', 'bar', 'please', 'please', 'please', 'kidding', 'kidding', 'goes', 'back', 'gets', 'coffee', 'pot', 'sick', 'yep', 'fiend', 'please', 'want', 'stuff', 'nervous', 'system', 'chart', 'love', 'charts', 'maybe', 'next', 'time', 'happened', 'morning', 'awful', 'started', 'chilton', 'sees', 'looking', 'strangely', 'dressed', 'take', 'chilton', 'fancy', 'school', 'clothes', 'cleaners', 'fuzzy', 'clock', 'purr', 'time', 'purr', 'fuzzy', 'purrs', 'never', 'mind', 'ta', 'plan', 'damn', 'next', 'time', 'getting', 'tea', 'stalks', 'diner', 'pulls', 'looks', 'chicken', 'bone', 'toaster', 'scene', 'changes', 'miss', 'patty', 'standing', 'next', 'street', 'lots', 'little', 'girls', 'pink', 'outfits', 'twirling', 'batons', 'miss', 'patty', 'visualize', 'ladies', 'thanksgiving', 'day', 'parade', 'standing', 'fifth', 'avenue', '100', 'beautiful', 'boys', 'marching', 'place', 'behind', 'front', 'fabulous', 'legs', 'perfect', 'tush', 'baton', 'fire', 'crowd', 'goes', 'nuts', 'cookie', 'time', 'looks', 'around', 'sees', 'walking', 'street', 'patty', 'miss', 'patty', 'today', 'first', 'day', 'chilton', 'dropping', 'miss', 'patty', 'wore', 'look', 'time', 'see', 'patty', 'miss', 'patty', 'walks', 'around', 'jeep', 'gets', 'miss', 'patty', 'walks', 'back', 'studio', 'miss', 'patty', 'ladies', 'see', 'naked', 'girls', 'keep', 'leotards', 'brazil', 'scene', 'changes', 'jeep', 'pulling', 'gilmore', 'house', 'gets', 'car', 'somewhat', 'uncoordinated', 'coffee', 'dry', 'cleaning', 'dropping', 'clothes', 'everywhere', 'staggers', 'house', 'goes', 'phone', 'ringing', 'struggles', 'find', 'cordless', 'finally', 'finding', 'heap', 'junk', 'falling', 'back', 'onto', 'couch', 'hello', 'grandmother', 'mom', 'grandmother', 'shopping', 'afternoon', 'thought', 'pick', 'things', 'grandmother', 'couple', 'extra', 'skirts', 'tops', 'school', 'already', 'took', 'care', 'mom', 'two', 'skirts', 'bunch', 'tops', 'grandmother', 'five', 'days', 'school', 'week', 'sure', 'days', 'week', 'underwear', 'till', 'thursday', 'struggling', 'pull', 'cowboy', 'boots', 'grandmother', 'joke', 'two', 'skirts', 'fine', 'bother', 'grandmother', 'gets', 'dirty', 'wear', 'grandmother', 'gets', 'dirty', 'use', 'newfangled', 'thing', 'called', 'washing', 'machine', 'town', 'chipped', 'bought', 'turn', 'tuesday', 'grandmother', 'socks', 'chilton', 'special', 'logo', 'socks', 'school', 'sweater', 'might', 'want', 'sweater', 'vest', 'bookbag', 'getting', 'cut', 'merchandise', 'grandmother', 'things', 'grandmother', 'least', 'getting', 'chilton', 'coat', 'size', '6', 'mom', 'please', 'grandmother', 'simple', 'question', 'six', 'size', 'eight', 'case', 'grows', 'grandmother', 'grows', 'buy', 'another', 'six', 'great', 'ta', 'mom', 'scene', 'changes', 'classroom', 'teacher', 'pacing', 'front', 'lecturing', 'teacher', 'french', 'culture', 'dominant', 'outside', 'cultural', 'influence', 'especially', 'russia', 'monied', 'class', 'english', 'culture', 'also', 'impact', 'tolstoy', 'favorite', 'author', 'instance', 'girl', '2', 'raises', 'hand', 'briefly', 'dickens', 'teacher', 'last', 'week', 'discovered', 'dostoevski', 'main', 'authorial', 'influences', 'girl', '2', 'raises', 'hand', 'george', 'sand', 'balzac', 'looks', 'slightly', 'apprehensively', 'teacher', 'good', 'tolstoy', 'commenced', 'writing', 'war', 'peace', 'anna', 'karenina', 'count', 'leo', 'turn', 'girl', '2', 'david', 'copperfield', 'teacher', 'correct', 'turn', 'david', 'copperfield', 'inspiration', 'door', 'opens', 'cute', 'guy', 'walks', 'teacher', 'dugray', 'guy', 'sir', 'hands', 'teacher', 'note', 'teacher', 'nice', 'back', 'hope', 'grandfather', 'feeling', 'better', 'guy', 'much', 'better', 'sir', 'teacher', 'good', 'take', 'seat', 'please', 'guy', 'walks', 'seat', 'leering', 'openly', 'making', 'uncomfortable', 'teacher', 'great', 'expectations', 'tale', 'two', 'cities', 'little', 'dorrit', 'major', 'influences', 'leo', 'tolstoy', 'guy', 'leans', 'forward', 'talk', 'friend', 'seat', 'front', 'guy', '1', 'guy', '2', 'new', 'girl', 'teachers', 'two', 'literary', 'masters', 'tolstoy', 'dickens', 'bell', 'rings', 'class', 'dismissed', 'girls', '1', '2', '3', 'looking', 'notes', 'disdain', 'tries', 'smile', 'guy', '1', 'looks', 'mary', 'looking', 'teacher', 'miss', 'gilmore', 'could', 'come', 'please', 'goes', 'last', 'week', 'study', 'material', 'hands', 'huge', 'binder', 'crammed', 'full', 'papers', 'test', 'tomorrow', 'since', 'new', 'take', 'makeup', 'test', 'monday', 'sufficient', 'time', 'monday', 'sure', 'fine', 'looking', 'overwhelmed', 'teacher', 'overview', 'find', 'helpful', 'borrow', 'student', 'personal', 'notes', 'tend', 'detailed', 'detailed', 'teacher', 'seems', 'daunting', 'right', 'fine', 'moves', 'leave', 'room', 'teacher', 'remember', 'notes', 'lifesaver', 'scene', 'changes', 'coming', 'room', 'almost', 'walks', 'girl', '2', 'girl', '2', 'see', 'come', 'gilmore', 'stars', 'hollow', 'call', 'nice', 'innocent', 'act', 'least', 'drama', 'club', 'franklin', 'school', 'paper', 'find', 'locker', 'first', 'editor', 'next', 'year', 'good', 'tries', 'move', 'away', 'steps', 'front', 'also', 'top', 'class', 'intend', 'valedictorian', 'graduate', 'never', 'catch', 'never', 'beat', 'school', 'domain', 'franklin', 'domain', 'ever', 'forget', 'walks', 'looks', 'strangely', 'guess', 'let', 'borrow', 'notes', 'huh', 'continues', 'hallway', 'commercials', 'opening', 'scene', 'outside', 'independence', 'inn', 'switches', 'kitchen', 'smelling', 'peaches', 'fruit', 'man', 'looking', 'smaller', 'last', 'batch', 'fruit', 'man', 'smaller', 'means', 'watery', 'good', 'peach', 'taste', 'fruit', 'man', 'plenty', 'peach', 'taste', 'peaches', 'ones', 'bottom', 'fruit', 'man', 'great', 'sure', 'check', 'sarcastically', 'give', 'every', 'last', 'nice', 'good', 'squeeze', 'actually', 'want', 'leave', 'could', 'sell', 'somebody', 'else', 'wait', 'minute', 'missed', 'let', 'impeccably', 'good', 'radar', 'picks', 'peach', 'throws', 'hands', 'walks', 'kitchen', 'look', 'great', 'right', 'supposed', 'look', 'good', 'morning', 'fruit', 'man', 'first', 'day', 'supposed', 'look', 'fabulous', 'night', 'playing', 'quarters', 'nobody', 'cares', 'looked', 'everybody', 'cared', 'moms', 'headmaster', 'mom', 'miss', 'patty', 'new', 'fire', 'chief', 'tiny', 'head', 'holds', 'peach', 'taste', 'bites', 'peach', 'little', 'watery', 'planned', 'say', 'something', 'mother', 'walked', 'headmaster', 'office', 'knew', 'wake', 'late', 'humiliate', 'wow', 'good', 'best', 'takes', 'peach', 'rolls', 'along', 'floor', 'love', 'rolling', 'differently', 'extra', 'water', 'makes', 'perfect', 'sense', 'ignore', 'women', 'cause', 'thing', 'matters', 'great', 'school', 'looked', 'amazing', 'uniform', 'excited', 'admire', 'much', 'jumping', 'new', 'school', 'hero', 'mine', 'sign', 'peaches', 'please', 'exasperated', 'michel', 'walks', 'michel', 'french', 'accent', 'excuse', 'phone', 'call', 'fetch', 'dog', 'cookie', 'raise', 'thanks', 'peach', 'hands', 'peach', 'takes', 'peach', 'walks', 'scene', 'changes', 'parlor', 'inn', 'old', 'women', 'looking', 'book', 'walking', 'walks', 'michel', 'trailing', 'woman', '1', 'absolutely', 'wonderful', 'supposed', 'darling', 'shops', 'street', 'excuse', 'sir', 'michel', 'find', 'best', 'antiques', 'michel', 'house', 'guess', 'walks', 'women', 'dismayed', 'mom', 'give', 'number', 'remember', 'giving', 'number', 'must', 'losing', 'mind', 'sorry', 'mom', 'hold', 'second', 'um', 'drella', 'take', 'notch', 'drella', 'harp', 'player', 'playing', 'loud', 'ignores', 'thanks', 'back', 'grandmother', 'wanted', 'known', 'bought', 'parking', 'space', 'chilton', 'grandmother', 'hard', 'come', 'pulled', 'strings', 'mom', 'car', 'grandmother', 'birthday', 'coming', 'soon', 'drella', 'still', 'playing', 'loudly', 'ca', 'hear', 'hold', 'second', 'um', 'drella', 'drella', 'little', 'softer', 'please', 'drella', 'hey', 'look', 'panasonic', 'stamped', 'ass', 'mom', 'buying', 'car', 'grandmother', 'smart', 'girl', 'responsible', 'need', 'grandmother', 'way', 'around', 'school', 'taking', 'bus', 'grandmother', 'hate', 'taking', 'bus', 'drug', 'dealers', 'take', 'bus', 'mom', 'ta', 'grandmother', 'fine', 'discuss', 'later', 'date', 'drella', 'plays', 'much', 'softer', 'phone', 'scene', 'changes', 'walking', 'chilton', 'hallway', 'guy', '1', 'comes', 'behind', 'guy', '1', 'hey', 'mary', 'guy', '1', 'name', 'guy', '1', 'tristin', 'tristin', 'new', 'first', 'day', 'tristin', 'remmy', 'class', 'rough', 'seemed', 'intense', 'tristin', 'could', 'loan', 'notes', 'help', 'great', 'tristin', 'great', 'walking', 'forward', 'pushing', 'wall', 'remmy', 'said', 'getting', 'someone', 'notes', 'tristin', 'could', 'even', 'help', 'study', 'want', 'kind', 'view', 'studying', 'solitary', 'activity', 'thanks', 'tristin', 'mary', 'walks', 'scene', 'changes', 'parlor', 'drella', 'playing', 'harp', 'people', 'listening', 'talking', 'man', 'teenage', 'guy', 'completely', 'understand', 'man', 'car', 'boy', 'tries', 'say', 'something', 'brings', 'car', 'scratched', 'boy', 'backed', 'car', 'man', 'car', 'scratched', 'parked', 'let', 'calm', 'sir', 'car', 'looked', 'tomorrow', 'sure', 'find', 'way', 'resolve', 'meantime', 'love', 'lunch', 'dessert', 'must', 'anything', 'homemade', 'ice', 'cream', 'delicious', 'life', 'never', 'say', 'man', 'thank', 'thank', 'man', 'walks', 'boy', 'swear', 'scratch', 'car', 'thought', 'unreliable', 'bad', 'driver', 'derek', 'boy', 'drive', 'sweetie', 'sure', 'take', 'musky', 'tomorrow', 'guys', 'look', 'sure', 'buff', 'nothing', 'boy', 'real', 'nice', 'outfit', 'wearing', 'today', 'thank', 'derek', 'derek', 'walks', 'michel', 'walks', 'michel', 'faithful', 'pooch', 'say', 'someone', 'needs', 'talk', 'mother', 'michel', 'possible', 'looks', 'around', 'standing', 'counter', 'ian', 'jack', 'chilton', 'possible', 'michel', 'resemblance', 'walks', 'ian', 'bad', 'time', 'ian', 'meet', 'associate', 'lunch', 'coming', 'new', 'york', 'thought', 'meet', 'beautiful', 'inn', 'good', 'enjoy', 'lunch', 'ian', 'thanks', 'also', 'wondering', 'maybe', 'could', 'take', 'dinner', 'sometime', 'little', 'ian', 'company', 'food', 'interests', 'flattered', 'ian', 'dad', 'ian', 'mom', 'although', 'still', 'finding', 'hard', 'believe', 'mean', 'chilton', 'dad', 'ian', 'sounds', 'bad', 'bad', 'tricky', 'started', 'let', 'fall', 'bad', 'crowd', 'start', 'hooking', 'ian', 'see', 'ca', 'date', 'anyone', 'ian', 'casual', 'dinner', 'sorry', 'walks', 'around', 'counter', 'ian', 'china', 'week', 'business', 'back', 'try', 'china', 'wow', 'ian', 'impressed', 'rome', 'impressed', 'china', 'china', 'wow', 'ian', 'laughs', 'picks', 'card', 'desk', 'puts', 'suit', 'gilmore', 'general', 'manager', 'talk', 'soon', 'safe', 'trip', 'ian', 'walks', 'walking', 'walk', 'michel', 'making', 'sick', 'aw', 'honey', 'try', 'watch', 'walk', 'away', 'michel', 'stop', 'walk', 'ca', 'bad', 'michel', 'away', 'walks', 'follows', 'little', 'attitude', 'make', 'mean', 'walks', 'people', 'listening', 'drella', 'play', 'harp', 'suddenly', 'stops', 'drella', 'lunch', 'walks', 'people', 'look', 'around', 'surprised', 'scene', 'changes', 'chilton', 'finds', 'locker', 'tries', 'open', 'stuck', 'pulls', 'hard', 'opens', 'stumble', 'backward', 'right', 'holding', 'big', 'project', 'intricate', 'castle', 'dropped', 'bumped', 'project', 'broke', 'million', 'pieces', 'sorry', 'please', 'sorry', 'accident', 'locker', 'slipped', 'pulled', 'hard', 'mean', 'water', 'moat', 'away', 'stalks', 'classroom', 'picks', 'books', 'puts', 'locker', 'taps', 'boy', 'walking', 'excuse', 'need', 'ness', 'history', 'boy', 'behind', 'points', 'classroom', 'walked', 'leaves', 'course', 'slams', 'locker', 'walks', 'classroom', 'sees', 'kidding', 'sits', 'seat', 'tristin', 'sits', 'right', 'near', 'tristin', 'hey', 'mary', 'teacher', 'left', 'projects', 'friday', 'gaynor', 'today', 'pick', 'miss', 'geller', 'stands', 'project', 'teacher', 'miss', 'geller', 'sufficient', 'time', 'complete', 'project', 'teacher', 'yet', 'done', 'teacher', 'receive', 'incomplete', 'project', 'stands', 'fault', 'teacher', 'gilmore', 'wrecked', 'project', 'shut', 'teacher', 'gilmore', 'gilmore', 'teacher', 'gilmore', 'wrecked', 'project', 'locked', 'stuck', 'stay', 'teacher', 'whatever', 'fault', 'teacher', 'need', 'pick', 'teacher', 'name', 'teacher', 'thank', 'wrecked', 'project', 'class', 'teacher', 'convenient', 'locked', 'stuck', 'stop', 'teacher', 'miss', 'gilmore', 'since', 'say', 'wrecked', 'miss', 'geller', 'project', 'may', 'help', 'fix', 'tomorrow', 'fine', 'want', 'help', 'mind', 'stay', 'trying', 'help', 'teacher', 'ladies', 'enough', 'miss', 'geller', 'want', 'miss', 'gilmore', 'help', 'may', 'tomorrow', 'done', 'receive', 'incomplete', 'understood', 'sits', 'teacher', 'long', 'standing', 'class', 'new', 'student', 'say', 'hello', 'gilmore', 'class', 'tristin', 'hello', 'mary', 'sits', 'commercials', 'opening', 'scene', 'welcome', 'stars', 'hollow', 'sign', 'population', 'scene', 'shifts', 'miss', 'patty', 'next', 'street', 'girls', 'studio', 'walking', 'books', 'heads', 'miss', 'patty', 'walk', 'smooth', 'new', 'harry', 'potter', 'heads', 'drop', 'harry', 'die', 'wo', 'anymore', 'books', 'sees', 'walking', 'dressed', 'morning', 'missy', 'ignores', 'scene', 'shifts', 'walking', 'diner', 'walking', 'near', 'entrance', 'squeeze', 'see', 'voted', 'mr', 'personality', 'new', 'millennium', 'crown', 'mean', 'usually', 'come', 'time', 'pick', 'school', 'pours', 'coffee', 'without', 'argument', 'thank', 'welcome', 'lectures', 'blood', 'sugar', 'low', 'eat', 'apple', 'back', 'god', 'hectic', 'bizarro', 'day', 'morning', 'late', 'mother', 'existing', 'father', 'father', 'chilton', 'drove', 'way', 'hartford', 'ask', 'trying', 'appear', 'care', 'kid', 'school', 'whole', 'thing', 'seemed', 'little', 'weird', 'good', 'good', 'good', 'turned', 'mean', 'probably', 'old', 'right', 'old', 'mean', 'kid', 'high', 'school', 'young', 'people', 'young', 'people', 'old', 'guy', 'asked', 'kind', 'smiles', 'bit', 'thinks', 'likes', 'cell', 'phone', 'rings', 'points', 'sign', 'says', 'cell', 'phones', 'babette', 'right', 'thanks', 'hangs', 'pulls', 'wallet', 'keep', 'gave', 'decaf', 'frowns', 'walks', 'door', 'scene', 'changes', 'man', 'woman', 'holding', 'cat', 'sitting', 'yard', 'live', 'right', 'next', 'gilmores', 'jeep', 'pulls', 'gets', 'hey', 'babette', 'sorry', 'call', 'babette', 'appreciate', 'babette', 'sudden', 'pull', 'truck', 'start', 'sniffing', 'around', 'strange', 'let', 'talk', 'pets', 'cat', 'man', 'gets', 'stands', 'next', 'babette', 'man', 'gnome', 'babette', 'kicked', 'gnome', 'babette', 'right', 'head', 'man', 'cool', 'sorry', 'gnome', 'babette', 'fine', 'sugar', 'trust', 'boys', 'gnome', 'kicking', 'says', 'lot', 'man', 'character', 'take', 'care', 'thanks', 'walks', 'house', 'men', 'porch', 'goes', 'steps', 'talk', 'hey', 'um', 'man', '1', 'live', 'man', '1', 'supposed', 'install', 'dsl', 'gilmore', 'man', '1', 'mick', 'nice', 'meet', 'could', 'porch', 'mick', 'told', 'look', 'ceramic', 'frog', 'key', 'inside', 'ca', 'find', 'frog', 'order', 'dsl', 'mick', 'order', 'placed', 'gilmore', 'grandmother', 'done', 'frog', 'search', 'put', 'us', 'way', 'behind', 'man', '2', 'hey', 'mick', 'found', 'mick', 'found', 'frog', 'man', '2', 'frog', 'turtle', 'mick', 'says', 'frog', 'turtle', 'mick', 'trust', 'cancel', 'dsl', 'order', 'mick', 'sure', 'already', 'paid', 'need', 'dsl', 'thanks', 'coming', 'guys', 'guys', 'leave', 'walks', 'jeep', 'babette', 'problem', 'nothing', 'shakespeare', 'could', 'turn', 'good', 'play', 'gets', 'jeep', 'scene', 'changes', 'camera', 'piece', 'paper', 'says', 'sorry', 'please', 'let', 'help', 'handwriting', 'teacher', 'romanists', 'great', 'adroitness', 'drawn', 'three', 'walls', 'around', 'hitherto', 'protected', 'could', 'reform', 'whereby', 'christians', 'fallen', 'terribly', 'said', 'gave', 'note', 'immediately', 'crumpled', 'threw', 'floor', 'sees', 'give', 'answer', 'martin', 'luther', 'teacher', 'good', 'miss', 'gilmore', 'year', 'martin', 'luther', 'address', 'christian', 'nobility', 'sees', 'lean', 'forward', '1520', 'teacher', 'good', 'miss', 'gilmore', 'next', 'time', 'class', 'goes', 'desk', 'stay', 'way', 'make', 'school', 'living', 'hell', 'swallows', 'apprehensively', 'tristin', 'see', 'tomorrow', 'mary', 'name', 'scene', 'changes', 'camera', 'shows', 'street', 'corner', 'switches', 'inside', 'salon', 'appears', 'searching', 'somebody', 'stylist', 'help', 'brushes', 'past', 'god', 'wish', 'knocks', 'mother', 'hairdryer', 'grandmother', 'earth', 'buying', 'us', 'dsl', 'grandmother', 'hardly', 'place', 'canceled', 'order', 'happening', 'grandmother', 'needs', 'internet', 'school', 'internet', 'grandmother', 'faster', 'internet', 'slow', 'turn', 'walk', 'around', 'dance', 'make', 'sandwich', 'dsl', 'dancing', 'walking', 'starve', 'work', 'play', 'seen', 'shining', 'mom', 'grandmother', 'earth', 'talking', 'also', 'cars', 'parking', 'spaces', 'uniforms', 'supplied', 'mother', 'final', 'discussion', 'grandmother', 'stubborn', 'usual', 'mom', 'stubborn', 'person', 'always', 'needed', 'work', 'problems', 'take', 'care', 'way', 'born', 'grandmother', 'florence', 'dripping', 'appreciate', 'done', 'paying', 'school', 'forgotten', 'wo', 'let', 'daughter', 'decide', 'live', 'validate', 'parking', 'grandmother', 'stamp', 'desk', 'thank', 'looks', 'embarrassed', 'dismayed', 'walks', 'scene', 'changes', 'outside', 'chilton', 'drinking', 'coffee', 'waiting', 'come', 'emerges', 'mm', 'hey', 'drops', 'backpack', 'hugs', 'whole', 'thing', 'idea', 'day', 'sucked', 'promise', 'swear', 'mother', 'life', 'yet', 'want', 'stop', 'hugging', 'still', 'hugging', 'still', 'hugging', 'smooch', 'brought', 'us', 'coffee', 'shocked', 'triple', 'caps', 'easy', 'foam', 'work', 'stick', 'fingers', 'light', 'socket', 'laughs', 'picks', 'backpack', 'come', 'staggers', 'weight', 'expect', 'smart', 'day', 'expect', 'lot', 'things', 'big', 'long', 'scary', 'tweedy', 'bad', 'eight', 'hours', 'add', 'hair', 'spray', 'day', 'girls', 'already', 'hates', 'guys', 'weird', 'weirder', 'guys', 'kept', 'calling', 'mary', 'kidding', 'wow', 'ca', 'believe', 'still', 'say', 'mean', 'means', 'virgin', 'mary', 'means', 'look', 'kidding', 'called', 'thought', 'looked', 'slut', 'might', 'added', 'magdalene', 'wow', 'biblical', 'insults', 'advanced', 'school', 'laugh', 'turns', 'engine', 'scene', 'changes', 'night', 'town', 'lit', 'lights', 'along', 'streets', 'walking', 'food', 'hand', 'weird', 'school', 'today', 'mean', 'finally', 'noticed', 'kids', 'let', 'say', 'sad', 'lot', 'add', 'couple', 'plaid', 'skirts', 'chilton', 'freaks', 'totally', 'miss', 'miss', 'idea', 'tuesdays', 'thursdays', 'hartford', 'business', 'class', 'comes', 'along', 'guys', 'shop', 'study', 'join', 'cult', 'shave', 'heads', 'except', 'shaving', 'heads', 'part', 'time', 'late', 'dinner', 'mother', 'kill', 'keep', 'sending', 'home', 'fat', 'happy', 'sorry', 'found', 'web', 'site', 'sells', 'tofu', 'bulk', 'kidding', 'right', 'shakes', 'head', 'yesterday', 'went', 'bought', 'bigger', 'fridge', 'takes', 'pink', 'jacket', 'handing', 'shaking', 'hair', 'boy', 'honey', 'life', 'scary', 'crust', 'pizza', 'crust', 'least', 'thanks', 'watches', 'leave', 'pizza', 'thoughts', 'wish', 'could', 'figure', 'way', 'back', 'angry', 'chicks', 'worst', 'high', 'school', 'horrible', 'rid', 'pregnant', 'dropped', 'learn', 'french', 'braid', 'hair', 'even', 'better', 'sweetie', 'ca', 'let', 'kids', 'want', 'talk', 'anybody', 'parent', 'teacher', 'big', 'guy', 'named', 'moose', 'figure', 'sees', 'laugh', 'thinking', 'way', 'face', 'looked', 'beat', 'martin', 'luther', 'question', 'good', 'huh', '14', 'shades', 'purple', 'cool', 'tomorrow', 'shooting', '15', 'stop', 'front', 'diner', 'hey', 'mean', 'mean', 'cute', 'way', 'date', 'said', 'nothing', 'dating', 'date', 'break', 'never', 'able', 'eat', 'repeat', 'said', 'nothing', 'dating', 'date', 'al', 'pancake', 'world', 'food', 'stinks', 'believe', 'hearing', 'al', 'food', 'stink', 'al', 'stinks', 'comes', 'diner', 'stares', 'gilmores', 'closes', 'restaurant', 'goes', 'back', 'inside', 'end', 'lorelais', 'day', 'first', 'chilton', 'summary', 'lorelais', 'first', 'day', 'chilton', 'screencaps', 'back', 'episode', 'guide']\n"
     ]
    }
   ],
   "source": [
    "print(getWordsFromPage(2))"
   ]
  },
  {
   "cell_type": "markdown",
   "id": "dba4279b",
   "metadata": {},
   "source": [
    "here we can look at a list of words from each given episode. for season one, episodes are simply 1-21\n",
    "for further seasons, they are formated as such: season 2 episode 1 = 201 etc"
   ]
  },
  {
   "cell_type": "code",
   "execution_count": null,
   "id": "0cbf4062",
   "metadata": {},
   "outputs": [],
   "source": [
    "from wordcloud import WordCloud"
   ]
  },
  {
   "cell_type": "markdown",
   "id": "85c02202",
   "metadata": {},
   "source": [
    "word cloud lets us make a word cloud from the list off words :) unbelievable"
   ]
  },
  {
   "cell_type": "code",
   "execution_count": null,
   "id": "3343c438",
   "metadata": {},
   "outputs": [],
   "source": [
    "wordcloud = WordCloud(background_color=\"white\", max_words=5000, contour_width=3, contour_color='steelblue')"
   ]
  },
  {
   "cell_type": "code",
   "execution_count": null,
   "id": "a401b455",
   "metadata": {},
   "outputs": [],
   "source": [
    "wordcloud.generate(str(getWordsFromPage(2)))"
   ]
  },
  {
   "cell_type": "code",
   "execution_count": null,
   "id": "cb160d4e",
   "metadata": {},
   "outputs": [],
   "source": [
    "wordcloud.to_image()"
   ]
  },
  {
   "cell_type": "code",
   "execution_count": null,
   "id": "dd51b213",
   "metadata": {},
   "outputs": [],
   "source": []
  }
 ],
 "metadata": {
  "kernelspec": {
   "display_name": "Python 3 (ipykernel)",
   "language": "python",
   "name": "python3"
  },
  "language_info": {
   "codemirror_mode": {
    "name": "ipython",
    "version": 3
   },
   "file_extension": ".py",
   "mimetype": "text/x-python",
   "name": "python",
   "nbconvert_exporter": "python",
   "pygments_lexer": "ipython3",
   "version": "3.8.12"
  },
  "toc": {
   "base_numbering": 1,
   "nav_menu": {},
   "number_sections": true,
   "sideBar": true,
   "skip_h1_title": false,
   "title_cell": "Table of Contents",
   "title_sidebar": "Contents",
   "toc_cell": false,
   "toc_position": {},
   "toc_section_display": true,
   "toc_window_display": false
  }
 },
 "nbformat": 4,
 "nbformat_minor": 5
}
